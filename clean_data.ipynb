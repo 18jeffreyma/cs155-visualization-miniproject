{
 "cells": [
  {
   "cell_type": "code",
   "execution_count": 1,
   "metadata": {
    "ExecuteTime": {
     "end_time": "2020-02-27T06:06:39.426188Z",
     "start_time": "2020-02-27T06:06:39.093275Z"
    }
   },
   "outputs": [],
   "source": [
    "import pandas as pd"
   ]
  },
  {
   "cell_type": "code",
   "execution_count": 2,
   "metadata": {
    "ExecuteTime": {
     "end_time": "2020-02-27T06:06:51.003181Z",
     "start_time": "2020-02-27T06:06:50.987619Z"
    }
   },
   "outputs": [],
   "source": [
    "colnames = ['movie_id', 'title', 'unknown', \"action\", \"adventure\", \"animation\", \n",
    "            \"childrens\", \"comedy\", \"crime\", \"documentary\", \"drama\", \"fantasy\", \n",
    "            \"film-noir\", \"horror\", \"musical\", \"mystery\", \"romance\", \"sci-fi\", \n",
    "            \"thriller\", \"war\", \"western\"]\n",
    "\n",
    "movie_info = pd.read_csv(\"data/movies.txt\", names=colnames, sep='\\t', header=None)"
   ]
  },
  {
   "cell_type": "code",
   "execution_count": 14,
   "metadata": {
    "ExecuteTime": {
     "end_time": "2020-02-27T06:11:00.164583Z",
     "start_time": "2020-02-27T06:11:00.160472Z"
    }
   },
   "outputs": [],
   "source": [
    "id_to_movie_title = movie_info['title'].tolist()\n",
    "id_to_movie_title.insert(0, \"NO MOVIE WITH ID 0\")\n",
    "\n",
    "movie_to_id = dict()\n",
    "\n",
    "for i in range(1,len(id_to_movie_title)):\n",
    "    if (id_to_movie_title[i] not in movie_to_id):\n",
    "        movie_to_id[id_to_movie_title[i]] = i\n"
   ]
  },
  {
   "cell_type": "code",
   "execution_count": 27,
   "metadata": {
    "ExecuteTime": {
     "end_time": "2020-02-27T06:21:33.745591Z",
     "start_time": "2020-02-27T06:21:32.952758Z"
    }
   },
   "outputs": [],
   "source": [
    "output_file = \"data/train_cleaned.txt\"\n",
    "input_file = \"data/train.txt\"\n",
    "\n",
    "input_np = np.loadtxt(input_file, dtype=int)\n",
    "\n",
    "for i in range(len(input_np)):\n",
    "    if input_np[i,1] != movie_to_id[id_to_movie_title[input_np[i,1]]]:\n",
    "        input_np[i,1] = movie_to_id[id_to_movie_title[input_np[i,1]]]\n",
    "\n",
    "pd.DataFrame(input_np).to_csv(output_file, sep=\"\\t\",header=None, index=None)"
   ]
  },
  {
   "cell_type": "code",
   "execution_count": 28,
   "metadata": {
    "ExecuteTime": {
     "end_time": "2020-02-27T06:21:42.052089Z",
     "start_time": "2020-02-27T06:21:41.943177Z"
    }
   },
   "outputs": [],
   "source": [
    "output_file = \"data/test_cleaned.txt\"\n",
    "input_file = \"data/test.txt\"\n",
    "\n",
    "input_np = np.loadtxt(input_file, dtype=int)\n",
    "\n",
    "for i in range(len(input_np)):\n",
    "    if input_np[i,1] != movie_to_id[id_to_movie_title[input_np[i,1]]]:\n",
    "        input_np[i,1] = movie_to_id[id_to_movie_title[input_np[i,1]]]\n",
    "\n",
    "pd.DataFrame(input_np).to_csv(output_file, sep=\"\\t\",header=None, index=None)"
   ]
  },
  {
   "cell_type": "code",
   "execution_count": null,
   "metadata": {},
   "outputs": [],
   "source": []
  }
 ],
 "metadata": {
  "kernelspec": {
   "display_name": "Python 3",
   "language": "python",
   "name": "python3"
  },
  "language_info": {
   "codemirror_mode": {
    "name": "ipython",
    "version": 3
   },
   "file_extension": ".py",
   "mimetype": "text/x-python",
   "name": "python",
   "nbconvert_exporter": "python",
   "pygments_lexer": "ipython3",
   "version": "3.6.8"
  },
  "latex_envs": {
   "LaTeX_envs_menu_present": true,
   "autoclose": false,
   "autocomplete": true,
   "bibliofile": "biblio.bib",
   "cite_by": "apalike",
   "current_citInitial": 1,
   "eqLabelWithNumbers": true,
   "eqNumInitial": 1,
   "hotkeys": {
    "equation": "Ctrl-E",
    "itemize": "Ctrl-I"
   },
   "labels_anchors": false,
   "latex_user_defs": false,
   "report_style_numbering": false,
   "user_envs_cfg": false
  },
  "varInspector": {
   "cols": {
    "lenName": 16,
    "lenType": 16,
    "lenVar": 40
   },
   "kernels_config": {
    "python": {
     "delete_cmd_postfix": "",
     "delete_cmd_prefix": "del ",
     "library": "var_list.py",
     "varRefreshCmd": "print(var_dic_list())"
    },
    "r": {
     "delete_cmd_postfix": ") ",
     "delete_cmd_prefix": "rm(",
     "library": "var_list.r",
     "varRefreshCmd": "cat(var_dic_list()) "
    }
   },
   "types_to_exclude": [
    "module",
    "function",
    "builtin_function_or_method",
    "instance",
    "_Feature"
   ],
   "window_display": false
  }
 },
 "nbformat": 4,
 "nbformat_minor": 2
}
