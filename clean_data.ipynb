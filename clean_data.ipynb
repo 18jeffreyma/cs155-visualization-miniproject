{
 "cells": [
  {
   "cell_type": "code",
   "execution_count": 34,
   "metadata": {
    "ExecuteTime": {
     "end_time": "2020-02-27T06:41:03.819999Z",
     "start_time": "2020-02-27T06:41:03.816905Z"
    }
   },
   "outputs": [],
   "source": [
    "import pandas as pd"
   ]
  },
  {
   "cell_type": "code",
   "execution_count": 35,
   "metadata": {
    "ExecuteTime": {
     "end_time": "2020-02-27T06:41:04.780597Z",
     "start_time": "2020-02-27T06:41:04.768381Z"
    }
   },
   "outputs": [],
   "source": [
    "colnames = ['movie_id', 'title', 'unknown', \"action\", \"adventure\", \"animation\", \n",
    "            \"childrens\", \"comedy\", \"crime\", \"documentary\", \"drama\", \"fantasy\", \n",
    "            \"film-noir\", \"horror\", \"musical\", \"mystery\", \"romance\", \"sci-fi\", \n",
    "            \"thriller\", \"war\", \"western\"]\n",
    "\n",
    "movie_info = pd.read_csv(\"data/movies.txt\", names=colnames, sep='\\t', header=None)"
   ]
  },
  {
   "cell_type": "code",
   "execution_count": 36,
   "metadata": {
    "ExecuteTime": {
     "end_time": "2020-02-27T06:41:05.824819Z",
     "start_time": "2020-02-27T06:41:05.820000Z"
    }
   },
   "outputs": [],
   "source": [
    "id_to_movie_title = movie_info['title'].tolist()\n",
    "id_to_movie_title.insert(0, \"NO MOVIE WITH ID 0\")\n",
    "\n",
    "movie_to_id = dict()\n",
    "\n",
    "for i in range(1,len(id_to_movie_title)):\n",
    "    if (id_to_movie_title[i] not in movie_to_id):\n",
    "        movie_to_id[id_to_movie_title[i]] = i\n"
   ]
  },
  {
   "cell_type": "code",
   "execution_count": 27,
   "metadata": {
    "ExecuteTime": {
     "end_time": "2020-02-27T06:21:33.745591Z",
     "start_time": "2020-02-27T06:21:32.952758Z"
    }
   },
   "outputs": [],
   "source": [
    "output_file = \"data/train_cleaned.txt\"\n",
    "input_file = \"data/train.txt\"\n",
    "\n",
    "input_np = np.loadtxt(input_file, dtype=int)\n",
    "\n",
    "for i in range(len(input_np)):\n",
    "    if input_np[i,1] != movie_to_id[id_to_movie_title[input_np[i,1]]]:\n",
    "        input_np[i,1] = movie_to_id[id_to_movie_title[input_np[i,1]]]\n",
    "\n",
    "pd.DataFrame(input_np).to_csv(output_file, sep=\"\\t\",header=None, index=None)"
   ]
  },
  {
   "cell_type": "code",
   "execution_count": 28,
   "metadata": {
    "ExecuteTime": {
     "end_time": "2020-02-27T06:21:42.052089Z",
     "start_time": "2020-02-27T06:21:41.943177Z"
    }
   },
   "outputs": [],
   "source": [
    "output_file = \"data/test_cleaned.txt\"\n",
    "input_file = \"data/test.txt\"\n",
    "\n",
    "input_np = np.loadtxt(input_file, dtype=int)\n",
    "\n",
    "for i in range(len(input_np)):\n",
    "    if input_np[i,1] != movie_to_id[id_to_movie_title[input_np[i,1]]]:\n",
    "        input_np[i,1] = movie_to_id[id_to_movie_title[input_np[i,1]]]\n",
    "\n",
    "pd.DataFrame(input_np).to_csv(output_file, sep=\"\\t\",header=None, index=None)"
   ]
  },
  {
   "cell_type": "code",
   "execution_count": 37,
   "metadata": {
    "ExecuteTime": {
     "end_time": "2020-02-27T06:41:22.321728Z",
     "start_time": "2020-02-27T06:41:22.318299Z"
    }
   },
   "outputs": [],
   "source": [
    "popular_movies = ['Star Wars (1977)', 'Contact (1997)', 'Fargo (1996)', 'Return of the Jedi (1983)', 'Liar Liar (1997)', 'English Patient, The (1996)', 'Scream (1996)', 'Toy Story (1995)', 'Air Force One (1997)', 'Independence Day (ID4) (1996)']"
   ]
  },
  {
   "cell_type": "code",
   "execution_count": 38,
   "metadata": {
    "ExecuteTime": {
     "end_time": "2020-02-27T06:41:41.048605Z",
     "start_time": "2020-02-27T06:41:41.045925Z"
    }
   },
   "outputs": [],
   "source": [
    "best_movies = ['Prefontaine (1997)', 'Santa with Muscles (1996)', 'Great Day in Harlem, A (1994)', 'Aiqing wansui (1994)', 'Star Kid (1997)', \"Someone Else's America (1995)\", 'Entertaining Angels: The Dorothy Day Story (1996)', 'Saint of Fort Washington, The (1993)', 'They Made Me a Criminal (1939)', 'Marlene Dietrich: Shadow and Light (1996) ']"
   ]
  },
  {
   "cell_type": "code",
   "execution_count": 39,
   "metadata": {
    "ExecuteTime": {
     "end_time": "2020-02-27T06:42:11.624562Z",
     "start_time": "2020-02-27T06:42:11.621792Z"
    }
   },
   "outputs": [],
   "source": [
    "best_movie_ids = [movie_to_id[m] for m in best_movies]\n",
    "pop_movie_ids = [movie_to_id[m] for m in popular_movies]"
   ]
  },
  {
   "cell_type": "code",
   "execution_count": 40,
   "metadata": {
    "ExecuteTime": {
     "end_time": "2020-02-27T06:42:21.279743Z",
     "start_time": "2020-02-27T06:42:21.276852Z"
    }
   },
   "outputs": [
    {
     "name": "stdout",
     "output_type": "stream",
     "text": [
      "[1189, 1500, 814, 1536, 1293, 1599, 1653, 1467, 1122, 1201]\n",
      "[50, 258, 100, 181, 294, 286, 288, 1, 300, 121]\n"
     ]
    }
   ],
   "source": [
    "print(best_movie_ids)\n",
    "print(pop_movie_ids)"
   ]
  },
  {
   "cell_type": "code",
   "execution_count": null,
   "metadata": {},
   "outputs": [],
   "source": []
  }
 ],
 "metadata": {
  "kernelspec": {
   "display_name": "Python 3",
   "language": "python",
   "name": "python3"
  },
  "language_info": {
   "codemirror_mode": {
    "name": "ipython",
    "version": 3
   },
   "file_extension": ".py",
   "mimetype": "text/x-python",
   "name": "python",
   "nbconvert_exporter": "python",
   "pygments_lexer": "ipython3",
   "version": "3.6.8"
  },
  "latex_envs": {
   "LaTeX_envs_menu_present": true,
   "autoclose": false,
   "autocomplete": true,
   "bibliofile": "biblio.bib",
   "cite_by": "apalike",
   "current_citInitial": 1,
   "eqLabelWithNumbers": true,
   "eqNumInitial": 1,
   "hotkeys": {
    "equation": "Ctrl-E",
    "itemize": "Ctrl-I"
   },
   "labels_anchors": false,
   "latex_user_defs": false,
   "report_style_numbering": false,
   "user_envs_cfg": false
  },
  "varInspector": {
   "cols": {
    "lenName": 16,
    "lenType": 16,
    "lenVar": 40
   },
   "kernels_config": {
    "python": {
     "delete_cmd_postfix": "",
     "delete_cmd_prefix": "del ",
     "library": "var_list.py",
     "varRefreshCmd": "print(var_dic_list())"
    },
    "r": {
     "delete_cmd_postfix": ") ",
     "delete_cmd_prefix": "rm(",
     "library": "var_list.r",
     "varRefreshCmd": "cat(var_dic_list()) "
    }
   },
   "types_to_exclude": [
    "module",
    "function",
    "builtin_function_or_method",
    "instance",
    "_Feature"
   ],
   "window_display": false
  }
 },
 "nbformat": 4,
 "nbformat_minor": 2
}
