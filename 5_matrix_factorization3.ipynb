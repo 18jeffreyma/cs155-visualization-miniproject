{
 "cells": [
  {
   "cell_type": "code",
   "execution_count": 1,
   "metadata": {},
   "outputs": [],
   "source": [
    "import pandas as pd\n",
    "import numpy as np\n",
    "import matplotlib.pyplot as plt\n",
    "from surprise import Reader, Dataset, SVD, accuracy\n",
    "from surprise.model_selection import train_test_split"
   ]
  },
  {
   "cell_type": "code",
   "execution_count": 3,
   "metadata": {},
   "outputs": [],
   "source": [
    "# Create m x n matrix for Y\n",
    "Y_train = np.loadtxt('./data/train_cleaned.txt').astype(int)\n",
    "Y_test = np.loadtxt('./data/test_cleaned.txt').astype(int)"
   ]
  },
  {
   "cell_type": "markdown",
   "metadata": {},
   "source": [
    "### Method 3 (Using scikit-surprise)"
   ]
  },
  {
   "cell_type": "code",
   "execution_count": 5,
   "metadata": {},
   "outputs": [
    {
     "name": "stdout",
     "output_type": "stream",
     "text": [
      "reg: 0.0001\n",
      "RMSE: 0.9697\n",
      "0.9696542703316504\n",
      "reg: 0.001\n",
      "RMSE: 0.9605\n",
      "0.9604780502705889\n",
      "reg: 0.01\n",
      "RMSE: 0.9569\n",
      "0.9569094664724928\n",
      "reg: 0.1\n",
      "RMSE: 0.9202\n",
      "0.9201546304509504\n",
      "reg: 1\n",
      "RMSE: 0.9826\n",
      "0.9825518901805712\n",
      "reg: 0\n",
      "RMSE: 0.9606\n",
      "0.9605585878179745\n",
      "\n",
      "\n",
      "lr: 0.3\n",
      "RMSE: 1.8585\n",
      "1.8584940139801367\n",
      "lr: 0.03\n",
      "RMSE: 0.9170\n",
      "0.9170476306133247\n",
      "lr: 0.003\n",
      "RMSE: 0.9242\n",
      "0.9242311446483035\n",
      "lr: 0.0003\n",
      "RMSE: 0.9747\n",
      "0.9747412966532608\n"
     ]
    }
   ],
   "source": [
    "reader = Reader(rating_scale=(1, 5))\n",
    "np.concatenate((Y_train, Y_test))\n",
    "data = Dataset.load_from_df(pd.DataFrame(np.concatenate((Y_train, Y_test))), reader)\n",
    "\n",
    "for reg in [10**-4, 10**-3, 0.01, 0.1, 1, 0]:\n",
    "    print(\"reg: {}\".format(reg))\n",
    "    algo = SVD(n_factors = 20, biased=True, reg_all = reg, n_epochs = 40)\n",
    "    trainset, testset = train_test_split(data, test_size=0.1)\n",
    "    algo.fit(trainset)\n",
    "    # User factors (u)\n",
    "    u = algo.pu\n",
    "    # Item factors (v)\n",
    "    v = algo.qi\n",
    "    predictions = algo.test(testset)\n",
    "    print(accuracy.rmse(predictions))\n",
    "print(\"\\n\\n\")\n",
    "\n",
    "for lr in [0.3, 0.03, 0.003,0.0003]:\n",
    "    print(\"lr: {}\".format(lr))\n",
    "    algo = SVD(n_factors = 20, biased=True, reg_all = 0.1, lr_all = lr, n_epochs = 40)\n",
    "    trainset, testset = train_test_split(data, test_size=0.1)\n",
    "    algo.fit(trainset)\n",
    "    # User factors (u)\n",
    "    u = algo.pu\n",
    "    # Item factors (v)\n",
    "    v = algo.qi\n",
    "    predictions = algo.test(testset)\n",
    "    print(accuracy.rmse(predictions))"
   ]
  },
  {
   "cell_type": "code",
   "execution_count": 18,
   "metadata": {},
   "outputs": [
    {
     "name": "stdout",
     "output_type": "stream",
     "text": [
      "RMSE: 0.9246\n",
      "0.9245541427481175\n"
     ]
    }
   ],
   "source": [
    "# Best setup\n",
    "algo = SVD(n_factors = 20, biased=True, reg_all = 0.1, lr_all = 0.03, n_epochs = 40)\n",
    "trainset, testset = train_test_split(data, test_size=0.1)\n",
    "algo.fit(trainset)\n",
    "# User factors (u)\n",
    "U = algo.pu\n",
    "# Item factors (v)\n",
    "V = algo.qi\n",
    "predictions = algo.test(testset)\n",
    "print(accuracy.rmse(predictions))"
   ]
  },
  {
   "cell_type": "markdown",
   "metadata": {},
   "source": [
    "## Visualize and Interpret Results"
   ]
  },
  {
   "cell_type": "code",
   "execution_count": null,
   "metadata": {},
   "outputs": [],
   "source": [
    "# Visualize and interpret results\n",
    "def visualize(U, V):\n",
    "    ''' \n",
    "        U (k x M)\n",
    "        V (k x N)\n",
    "    '''\n",
    "    A, sigma, B = np.linalg.svd(V)\n",
    "    U_tilde = np.matmul(np.transpose(A[:,:2]), U)\n",
    "    V_tilde = np.matmul(np.transpose(A[:,:2]), V)\n",
    "    return U_tilde, V_tilde\n",
    "    \n",
    "U_tilde, V_tilde = visualize(np.transpose(U), np.transpose(V))"
   ]
  },
  {
   "cell_type": "code",
   "execution_count": null,
   "metadata": {},
   "outputs": [],
   "source": [
    "colnames = ['movie_id', 'title', 'unknown', \"action\", \"adventure\", \"animation\", \n",
    "            \"childrens\", \"comedy\", \"crime\", \"documentary\", \"drama\", \"fantasy\", \n",
    "            \"film-noir\", \"horror\", \"musical\", \"mystery\", \"romance\", \"sci-fi\", \n",
    "            \"thriller\", \"war\", \"western\"]\n",
    "movie_info = pd.read_csv(\"data/movies.txt\", names=colnames, sep='\\t', header=None)\n",
    "\n",
    "movie_to_genre = dict()\n",
    "\n",
    "for index, row in movie_info.iterrows():\n",
    "    if row['title'] not in movie_to_genre:\n",
    "        movie_to_genre[row['title']] = row['unknown':'western'].to_numpy()\n",
    "\n",
    "id_to_movie_title = movie_info['title'].tolist()\n",
    "id_to_movie_title.insert(0, \"NO MOVIE WITH ID 0\")\n",
    "\n",
    "movie_to_id = dict()\n",
    "\n",
    "for i in range(1,len(id_to_movie_title)):\n",
    "    if (id_to_movie_title[i] not in movie_to_id):\n",
    "        movie_to_id[id_to_movie_title[i]] = i        "
   ]
  },
  {
   "cell_type": "markdown",
   "metadata": {},
   "source": [
    "### Plot 10 Movies from Entire Dataset"
   ]
  },
  {
   "cell_type": "code",
   "execution_count": null,
   "metadata": {},
   "outputs": [],
   "source": [
    "np.random.seed(42)\n",
    "movies = np.random.choice(list(movie_to_genre.keys()), 10, replace=False)\n",
    "movie_ids = [movie_to_id[m] for m in movies]\n",
    "\n",
    "# ====================== TEN CHOSEN MOVIES PLOT ======================\n",
    "V_ten = np.take(np.transpose(V_tilde), movie_ids, axis=0)\n",
    "\n",
    "fig = plt.figure(figsize=(11, 9), dpi=80)\n",
    "ax = fig.add_subplot(1, 1, 1)\n",
    "\n",
    "# Move left y-axis and bottim x-axis to centre, passing through (0,0)\n",
    "ax.spines['left'].set_position('center')\n",
    "ax.spines['bottom'].set_position('center')\n",
    "\n",
    "# Eliminate upper and right axes\n",
    "ax.spines['right'].set_color('none')\n",
    "ax.spines['top'].set_color('none')\n",
    "\n",
    "# Show ticks in the left and lower axes only\n",
    "ax.xaxis.set_ticks_position('bottom')\n",
    "ax.yaxis.set_ticks_position('left')\n",
    "\n",
    "for i in range(len(V_ten)):\n",
    "    x = V_ten[i][0]\n",
    "    y = V_ten[i][1]\n",
    "    plt.scatter(x, y, marker='.', color='blue', s=100)\n",
    "    plt.text(x - 0.1, y + 0.01, movies[i], fontsize=11)\n",
    "plt.title('Method 1: 10 Movies from MovieLens dataset', fontsize=16, fontweight='bold')\n",
    "plt.show()"
   ]
  },
  {
   "cell_type": "markdown",
   "metadata": {},
   "source": [
    "### Plot 10 Most Popular Movies"
   ]
  },
  {
   "cell_type": "code",
   "execution_count": null,
   "metadata": {},
   "outputs": [],
   "source": [
    "popular_movies = ['Star Wars (1977)', 'Contact (1997)', 'Fargo (1996)', \n",
    "                  'Return of the Jedi (1983)', 'Liar Liar (1997)', \n",
    "                  'English Patient, The (1996)', 'Scream (1996)', \n",
    "                  'Toy Story (1995)', 'Air Force One (1997)', \n",
    "                  'Independence Day (ID4) (1996)']\n",
    "pop_movies_id = [movie_to_id[m] for m in popular_movies]\n",
    "\n",
    "# ====================== TEN MOST POPULAR MOVIES PLOT ======================\n",
    "V_pop = np.take(np.transpose(V_tilde), pop_movies_id, axis=0)\n",
    "\n",
    "fig = plt.figure(figsize=(11, 9), dpi=80)\n",
    "ax = fig.add_subplot(1, 1, 1)\n",
    "\n",
    "# Center axes\n",
    "ax.spines['left'].set_position('center')\n",
    "ax.spines['bottom'].set_position('center')\n",
    "ax.spines['right'].set_color('none')\n",
    "ax.spines['top'].set_color('none')\n",
    "ax.xaxis.set_ticks_position('bottom')\n",
    "ax.yaxis.set_ticks_position('left')\n",
    "\n",
    "for i in range(len(V_pop)):\n",
    "    x = V_pop[i][0]\n",
    "    y = V_pop[i][1]\n",
    "    plt.scatter(x, y, marker='.', color='blue', s=100)\n",
    "    plt.text(x - 0.1, y + 0.01, popular_movies[i], fontsize=11)\n",
    "plt.title('Method 1: 10 Most Popular Movies', fontsize=16, fontweight='bold')\n",
    "plt.show()"
   ]
  },
  {
   "cell_type": "markdown",
   "metadata": {},
   "source": [
    "### Plot 10 Best Movies"
   ]
  },
  {
   "cell_type": "code",
   "execution_count": null,
   "metadata": {},
   "outputs": [],
   "source": [
    "best_movies = ['Prefontaine (1997)', 'Santa with Muscles (1996)', \n",
    "               'Great Day in Harlem, A (1994)', 'Aiqing wansui (1994)', \n",
    "               'Star Kid (1997)', \"Someone Else's America (1995)\", \n",
    "               'Entertaining Angels: The Dorothy Day Story (1996)', \n",
    "               'Saint of Fort Washington, The (1993)', \n",
    "               'They Made Me a Criminal (1939)', \n",
    "               'Marlene Dietrich: Shadow and Light (1996) ']\n",
    "\n",
    "best_movies_id = [movie_to_id[m] for m in best_movies]\n",
    "\n",
    "# ====================== TEN BEST MOVIES PLOT ======================\n",
    "V_best = np.take(np.transpose(V_tilde), best_movies_id, axis=0)\n",
    "\n",
    "fig = plt.figure(figsize=(11, 9), dpi=80)\n",
    "ax = fig.add_subplot(1, 1, 1)\n",
    "\n",
    "# Center axes\n",
    "ax.spines['left'].set_position('center')\n",
    "ax.spines['bottom'].set_position('center')\n",
    "ax.spines['right'].set_color('none')\n",
    "ax.spines['top'].set_color('none')\n",
    "ax.xaxis.set_ticks_position('bottom')\n",
    "ax.yaxis.set_ticks_position('left')\n",
    "\n",
    "for i in range(len(V_best)):\n",
    "    x = V_best[i][0]\n",
    "    y = V_best[i][1]\n",
    "    plt.scatter(x, y, marker='.', color='blue', s=100)\n",
    "    plt.text(x - 0.1, y + 0.01, best_movies[i], fontsize=11)\n",
    "plt.title('Method 1: 10 Best Movies', fontsize=16, fontweight='bold')\n",
    "plt.show()"
   ]
  },
  {
   "cell_type": "code",
   "execution_count": null,
   "metadata": {},
   "outputs": [],
   "source": []
  }
 ],
 "metadata": {
  "kernelspec": {
   "display_name": "Python 3",
   "language": "python",
   "name": "python3"
  },
  "language_info": {
   "codemirror_mode": {
    "name": "ipython",
    "version": 3
   },
   "file_extension": ".py",
   "mimetype": "text/x-python",
   "name": "python",
   "nbconvert_exporter": "python",
   "pygments_lexer": "ipython3",
   "version": "3.7.6"
  },
  "latex_envs": {
   "LaTeX_envs_menu_present": true,
   "autoclose": false,
   "autocomplete": true,
   "bibliofile": "biblio.bib",
   "cite_by": "apalike",
   "current_citInitial": 1,
   "eqLabelWithNumbers": true,
   "eqNumInitial": 1,
   "hotkeys": {
    "equation": "Ctrl-E",
    "itemize": "Ctrl-I"
   },
   "labels_anchors": false,
   "latex_user_defs": false,
   "report_style_numbering": false,
   "user_envs_cfg": false
  },
  "varInspector": {
   "cols": {
    "lenName": 16,
    "lenType": 16,
    "lenVar": 40
   },
   "kernels_config": {
    "python": {
     "delete_cmd_postfix": "",
     "delete_cmd_prefix": "del ",
     "library": "var_list.py",
     "varRefreshCmd": "print(var_dic_list())"
    },
    "r": {
     "delete_cmd_postfix": ") ",
     "delete_cmd_prefix": "rm(",
     "library": "var_list.r",
     "varRefreshCmd": "cat(var_dic_list()) "
    }
   },
   "types_to_exclude": [
    "module",
    "function",
    "builtin_function_or_method",
    "instance",
    "_Feature"
   ],
   "window_display": false
  }
 },
 "nbformat": 4,
 "nbformat_minor": 4
}
