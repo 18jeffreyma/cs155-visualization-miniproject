{
 "cells": [
  {
   "cell_type": "code",
   "execution_count": 1,
   "metadata": {},
   "outputs": [],
   "source": [
    "import pandas as pd\n",
    "import numpy as np\n",
    "import matplotlib.pyplot as plt\n",
    "from surprise import Reader, Dataset\n",
    "from surprise import SVD, accuracy"
   ]
  },
  {
   "cell_type": "code",
   "execution_count": 17,
   "metadata": {},
   "outputs": [],
   "source": [
    "# Create m x n matrix for Y\n",
    "Y_train = np.loadtxt('./data/train_cleaned.txt').astype(int)\n",
    "Y_test = np.loadtxt('./data/test_cleaned.txt').astype(int)"
   ]
  },
  {
   "cell_type": "markdown",
   "metadata": {},
   "source": [
    "### Method 3 (Using scikit-surprise)"
   ]
  },
  {
   "cell_type": "code",
   "execution_count": 15,
   "metadata": {},
   "outputs": [
    {
     "name": "stdout",
     "output_type": "stream",
     "text": [
      "reg: 0.0001\n",
      "RMSE: 0.9703\n",
      "0.9703049933782399\n",
      "reg: 0.001\n",
      "RMSE: 0.9746\n",
      "0.9746497619899118\n",
      "reg: 0.01\n",
      "RMSE: 0.9527\n",
      "0.9526752223476758\n",
      "reg: 0.1\n",
      "RMSE: 0.9283\n",
      "0.9283313102810464\n",
      "reg: 1\n",
      "RMSE: 0.9930\n",
      "0.9929803729913291\n",
      "reg: 0\n",
      "RMSE: 0.9728\n",
      "0.9728363322020552\n",
      "\n",
      "\n",
      "lr: 0.3\n",
      "RMSE: 1.8488\n",
      "1.848756338731527\n",
      "lr: 0.03\n",
      "RMSE: 0.9230\n",
      "0.9230262888421915\n",
      "lr: 0.003\n",
      "RMSE: 0.9245\n",
      "0.9244785325168844\n",
      "lr: 0.0003\n",
      "RMSE: 0.9666\n",
      "0.9665959227572294\n"
     ]
    }
   ],
   "source": [
    "from surprise.model_selection import train_test_split\n",
    "reader = Reader(rating_scale=(1, 5))\n",
    "np.concatenate((Y_train, Y_test))\n",
    "data = Dataset.load_from_df(pd.DataFrame(np.concatenate((Y_train, Y_test))), reader)\n",
    "for reg in [10**-4, 10**-3, 0.01, 0.1, 1, 0]:\n",
    "    print(\"reg: {}\".format(reg))\n",
    "    algo = SVD(n_factors = 20, biased=True, reg_all = reg, n_epochs = 40)\n",
    "    trainset, testset = train_test_split(data, test_size=0.1)\n",
    "    algo.fit(trainset)\n",
    "    # User factors (u)\n",
    "    u = algo.pu\n",
    "    # Item factors (v)\n",
    "    v = algo.qi\n",
    "    predictions = algo.test(testset)\n",
    "    print(accuracy.rmse(predictions))\n",
    "print(\"\\n\")\n",
    "for lr in [0.3, 0.03, 0.003,0.0003]:\n",
    "    print(\"lr: {}\".format(lr))\n",
    "    algo = SVD(n_factors = 20, biased=True, reg_all = 0.1, lr_all = lr, n_epochs = 40)\n",
    "    trainset, testset = train_test_split(data, test_size=0.1)\n",
    "    algo.fit(trainset)\n",
    "    # User factors (u)\n",
    "    u = algo.pu\n",
    "    # Item factors (v)\n",
    "    v = algo.qi\n",
    "    predictions = algo.test(testset)\n",
    "    print(accuracy.rmse(predictions))"
   ]
  },
  {
   "cell_type": "code",
   "execution_count": 18,
   "metadata": {},
   "outputs": [
    {
     "name": "stdout",
     "output_type": "stream",
     "text": [
      "RMSE: 0.9246\n",
      "0.9245541427481175\n"
     ]
    }
   ],
   "source": [
    "# Best setup\n",
    "algo = SVD(n_factors = 20, biased=True, reg_all = 0.1, lr_all = 0.03, n_epochs = 40)\n",
    "trainset, testset = train_test_split(data, test_size=0.1)\n",
    "algo.fit(trainset)\n",
    "# User factors (u)\n",
    "u = algo.pu\n",
    "# Item factors (v)\n",
    "v = algo.qi\n",
    "predictions = algo.test(testset)\n",
    "print(accuracy.rmse(predictions))"
   ]
  },
  {
   "cell_type": "code",
   "execution_count": null,
   "metadata": {},
   "outputs": [],
   "source": []
  }
 ],
 "metadata": {
  "kernelspec": {
   "display_name": "Python 3",
   "language": "python",
   "name": "python3"
  },
  "language_info": {
   "codemirror_mode": {
    "name": "ipython",
    "version": 3
   },
   "file_extension": ".py",
   "mimetype": "text/x-python",
   "name": "python",
   "nbconvert_exporter": "python",
   "pygments_lexer": "ipython3",
   "version": "3.7.6"
  },
  "latex_envs": {
   "LaTeX_envs_menu_present": true,
   "autoclose": false,
   "autocomplete": true,
   "bibliofile": "biblio.bib",
   "cite_by": "apalike",
   "current_citInitial": 1,
   "eqLabelWithNumbers": true,
   "eqNumInitial": 1,
   "hotkeys": {
    "equation": "Ctrl-E",
    "itemize": "Ctrl-I"
   },
   "labels_anchors": false,
   "latex_user_defs": false,
   "report_style_numbering": false,
   "user_envs_cfg": false
  },
  "varInspector": {
   "cols": {
    "lenName": 16,
    "lenType": 16,
    "lenVar": 40
   },
   "kernels_config": {
    "python": {
     "delete_cmd_postfix": "",
     "delete_cmd_prefix": "del ",
     "library": "var_list.py",
     "varRefreshCmd": "print(var_dic_list())"
    },
    "r": {
     "delete_cmd_postfix": ") ",
     "delete_cmd_prefix": "rm(",
     "library": "var_list.r",
     "varRefreshCmd": "cat(var_dic_list()) "
    }
   },
   "types_to_exclude": [
    "module",
    "function",
    "builtin_function_or_method",
    "instance",
    "_Feature"
   ],
   "window_display": false
  }
 },
 "nbformat": 4,
 "nbformat_minor": 4
}
