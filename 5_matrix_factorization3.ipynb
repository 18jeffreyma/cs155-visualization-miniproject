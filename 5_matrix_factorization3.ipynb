{
 "cells": [
  {
   "cell_type": "code",
   "execution_count": 1,
   "metadata": {},
   "outputs": [],
   "source": [
    "import pandas as pd\n",
    "import numpy as np\n",
    "import matplotlib.pyplot as plt\n",
    "from surprise import Reader, Dataset, SVD, accuracy\n",
    "from surprise.model_selection import train_test_split"
   ]
  },
  {
   "cell_type": "code",
   "execution_count": 3,
   "metadata": {},
   "outputs": [],
   "source": [
    "# Create m x n matrix for Y\n",
    "Y_train = np.loadtxt('./data/train_cleaned.txt').astype(int)\n",
    "Y_test = np.loadtxt('./data/test_cleaned.txt').astype(int)"
   ]
  },
  {
   "cell_type": "markdown",
   "metadata": {},
   "source": [
    "### Method 3 (Using scikit-surprise)"
   ]
  },
  {
   "cell_type": "code",
   "execution_count": 5,
   "metadata": {},
   "outputs": [
    {
     "name": "stdout",
     "output_type": "stream",
     "text": [
      "reg: 0.0001\n",
      "RMSE: 0.9697\n",
      "0.9696542703316504\n",
      "reg: 0.001\n",
      "RMSE: 0.9605\n",
      "0.9604780502705889\n",
      "reg: 0.01\n",
      "RMSE: 0.9569\n",
      "0.9569094664724928\n",
      "reg: 0.1\n",
      "RMSE: 0.9202\n",
      "0.9201546304509504\n",
      "reg: 1\n",
      "RMSE: 0.9826\n",
      "0.9825518901805712\n",
      "reg: 0\n",
      "RMSE: 0.9606\n",
      "0.9605585878179745\n",
      "\n",
      "\n",
      "lr: 0.3\n",
      "RMSE: 1.8585\n",
      "1.8584940139801367\n",
      "lr: 0.03\n",
      "RMSE: 0.9170\n",
      "0.9170476306133247\n",
      "lr: 0.003\n",
      "RMSE: 0.9242\n",
      "0.9242311446483035\n",
      "lr: 0.0003\n",
      "RMSE: 0.9747\n",
      "0.9747412966532608\n"
     ]
    }
   ],
   "source": [
    "reader = Reader(rating_scale=(1, 5))\n",
    "np.concatenate((Y_train, Y_test))\n",
    "data = Dataset.load_from_df(pd.DataFrame(np.concatenate((Y_train, Y_test))), reader)\n",
    "\n",
    "for reg in [10**-4, 10**-3, 0.01, 0.1, 1, 0]:\n",
    "    print(\"reg: {}\".format(reg))\n",
    "    algo = SVD(n_factors = 20, biased=True, reg_all = reg, n_epochs = 40)\n",
    "    trainset, testset = train_test_split(data, test_size=0.1)\n",
    "    algo.fit(trainset)\n",
    "    # User factors (u)\n",
    "    u = algo.pu\n",
    "    # Item factors (v)\n",
    "    v = algo.qi\n",
    "    predictions = algo.test(testset)\n",
    "    print(accuracy.rmse(predictions))\n",
    "print(\"\\n\\n\")\n",
    "\n",
    "for lr in [0.3, 0.03, 0.003,0.0003]:\n",
    "    print(\"lr: {}\".format(lr))\n",
    "    algo = SVD(n_factors = 20, biased=True, reg_all = 0.1, lr_all = lr, n_epochs = 40)\n",
    "    trainset, testset = train_test_split(data, test_size=0.1)\n",
    "    algo.fit(trainset)\n",
    "    # User factors (u)\n",
    "    u = algo.pu\n",
    "    # Item factors (v)\n",
    "    v = algo.qi\n",
    "    predictions = algo.test(testset)\n",
    "    print(accuracy.rmse(predictions))"
   ]
  },
  {
   "cell_type": "code",
   "execution_count": 18,
   "metadata": {},
   "outputs": [
    {
     "name": "stdout",
     "output_type": "stream",
     "text": [
      "RMSE: 0.9246\n",
      "0.9245541427481175\n"
     ]
    }
   ],
   "source": [
    "# Best setup\n",
    "algo = SVD(n_factors = 20, biased=True, reg_all = 0.1, lr_all = 0.03, n_epochs = 40)\n",
    "trainset, testset = train_test_split(data, test_size=0.1)\n",
    "algo.fit(trainset)\n",
    "# User factors (u)\n",
    "u = algo.pu\n",
    "# Item factors (v)\n",
    "v = algo.qi\n",
    "predictions = algo.test(testset)\n",
    "print(accuracy.rmse(predictions))"
   ]
  },
  {
   "cell_type": "code",
   "execution_count": null,
   "metadata": {},
   "outputs": [],
   "source": []
  }
 ],
 "metadata": {
  "kernelspec": {
   "display_name": "Python 3",
   "language": "python",
   "name": "python3"
  },
  "language_info": {
   "codemirror_mode": {
    "name": "ipython",
    "version": 3
   },
   "file_extension": ".py",
   "mimetype": "text/x-python",
   "name": "python",
   "nbconvert_exporter": "python",
   "pygments_lexer": "ipython3",
   "version": "3.6.9"
  },
  "latex_envs": {
   "LaTeX_envs_menu_present": true,
   "autoclose": false,
   "autocomplete": true,
   "bibliofile": "biblio.bib",
   "cite_by": "apalike",
   "current_citInitial": 1,
   "eqLabelWithNumbers": true,
   "eqNumInitial": 1,
   "hotkeys": {
    "equation": "Ctrl-E",
    "itemize": "Ctrl-I"
   },
   "labels_anchors": false,
   "latex_user_defs": false,
   "report_style_numbering": false,
   "user_envs_cfg": false
  },
  "varInspector": {
   "cols": {
    "lenName": 16,
    "lenType": 16,
    "lenVar": 40
   },
   "kernels_config": {
    "python": {
     "delete_cmd_postfix": "",
     "delete_cmd_prefix": "del ",
     "library": "var_list.py",
     "varRefreshCmd": "print(var_dic_list())"
    },
    "r": {
     "delete_cmd_postfix": ") ",
     "delete_cmd_prefix": "rm(",
     "library": "var_list.r",
     "varRefreshCmd": "cat(var_dic_list()) "
    }
   },
   "types_to_exclude": [
    "module",
    "function",
    "builtin_function_or_method",
    "instance",
    "_Feature"
   ],
   "window_display": false
  }
 },
 "nbformat": 4,
 "nbformat_minor": 4
}
