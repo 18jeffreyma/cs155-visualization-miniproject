{
 "cells": [
  {
   "cell_type": "code",
   "execution_count": 23,
   "metadata": {
    "ExecuteTime": {
     "end_time": "2020-02-26T08:54:26.069029Z",
     "start_time": "2020-02-26T08:54:25.845635Z"
    }
   },
   "outputs": [],
   "source": [
    "import matplotlib.pyplot as plt\n",
    "import numpy as np\n",
    "import random\n",
    "import pandas as pd"
   ]
  },
  {
   "cell_type": "code",
   "execution_count": 25,
   "metadata": {
    "ExecuteTime": {
     "end_time": "2020-02-26T09:04:37.715892Z",
     "start_time": "2020-02-26T09:04:37.673500Z"
    }
   },
   "outputs": [],
   "source": [
    "colnames = ['movie_id', 'title', 'unknown', \"action\", \"adventure\", \"animation\", \n",
    "            \"childrens\", \"comedy\", \"crime\", \"documentary\", \"drama\", \"fantasy\", \n",
    "            \"film-noir\", \"horror\", \"musical\", \"mystery\", \"romance\", \"sci-fi\", \n",
    "            \"thriller\", \"war\", \"western\"]\n",
    "\n",
    "dataset = pd.read_csv(\"data/movies.txt\", names=colnames, sep='\\t', header=None)"
   ]
  },
  {
   "cell_type": "code",
   "execution_count": 28,
   "metadata": {
    "ExecuteTime": {
     "end_time": "2020-02-26T09:04:59.172702Z",
     "start_time": "2020-02-26T09:04:59.162660Z"
    }
   },
   "outputs": [
    {
     "name": "stdout",
     "output_type": "stream",
     "text": [
      "   movie_id             title  unknown  action  adventure  animation  \\\n",
      "0         1  Toy Story (1995)        0       0          0          1   \n",
      "\n",
      "   childrens  comedy  crime  documentary  ...  fantasy  film-noir  horror  \\\n",
      "0          1       1      0            0  ...        0          0       0   \n",
      "\n",
      "   musical  mystery  romance  sci-fi  thriller  war  western  \n",
      "0        0        0        0       0         0    0        0  \n",
      "\n",
      "[1 rows x 21 columns]\n"
     ]
    }
   ],
   "source": [
    "print(dataset.loc[dataset['movie_id'] == 1])"
   ]
  },
  {
   "cell_type": "code",
   "execution_count": 24,
   "metadata": {
    "ExecuteTime": {
     "end_time": "2020-02-26T09:04:19.949081Z",
     "start_time": "2020-02-26T09:04:19.944564Z"
    }
   },
   "outputs": [
    {
     "data": {
      "text/plain": [
       "21"
      ]
     },
     "execution_count": 24,
     "metadata": {},
     "output_type": "execute_result"
    }
   ],
   "source": []
  },
  {
   "cell_type": "code",
   "execution_count": null,
   "metadata": {},
   "outputs": [],
   "source": []
  }
 ],
 "metadata": {
  "kernelspec": {
   "display_name": "Python 3",
   "language": "python",
   "name": "python3"
  },
  "language_info": {
   "codemirror_mode": {
    "name": "ipython",
    "version": 3
   },
   "file_extension": ".py",
   "mimetype": "text/x-python",
   "name": "python",
   "nbconvert_exporter": "python",
   "pygments_lexer": "ipython3",
   "version": "3.6.8"
  },
  "latex_envs": {
   "LaTeX_envs_menu_present": true,
   "autoclose": false,
   "autocomplete": true,
   "bibliofile": "biblio.bib",
   "cite_by": "apalike",
   "current_citInitial": 1,
   "eqLabelWithNumbers": true,
   "eqNumInitial": 1,
   "hotkeys": {
    "equation": "Ctrl-E",
    "itemize": "Ctrl-I"
   },
   "labels_anchors": false,
   "latex_user_defs": false,
   "report_style_numbering": false,
   "user_envs_cfg": false
  },
  "varInspector": {
   "cols": {
    "lenName": 16,
    "lenType": 16,
    "lenVar": 40
   },
   "kernels_config": {
    "python": {
     "delete_cmd_postfix": "",
     "delete_cmd_prefix": "del ",
     "library": "var_list.py",
     "varRefreshCmd": "print(var_dic_list())"
    },
    "r": {
     "delete_cmd_postfix": ") ",
     "delete_cmd_prefix": "rm(",
     "library": "var_list.r",
     "varRefreshCmd": "cat(var_dic_list()) "
    }
   },
   "types_to_exclude": [
    "module",
    "function",
    "builtin_function_or_method",
    "instance",
    "_Feature"
   ],
   "window_display": false
  }
 },
 "nbformat": 4,
 "nbformat_minor": 2
}
