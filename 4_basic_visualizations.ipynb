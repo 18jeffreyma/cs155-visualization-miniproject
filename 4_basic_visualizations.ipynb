{
 "cells": [
  {
   "cell_type": "markdown",
   "metadata": {
    "button": false,
    "deletable": true,
    "new_sheet": false,
    "run_control": {
     "read_only": false
    }
   },
   "source": [
    "# Imports"
   ]
  },
  {
   "cell_type": "code",
   "execution_count": 1,
   "metadata": {
    "ExecuteTime": {
     "end_time": "2020-02-28T09:32:56.920844Z",
     "start_time": "2020-02-28T09:32:56.231602Z"
    },
    "button": false,
    "collapsed": true,
    "deletable": true,
    "new_sheet": false,
    "run_control": {
     "read_only": false
    }
   },
   "outputs": [],
   "source": [
    "import matplotlib.pyplot as plt\n",
    "import seaborn as sns\n",
    "import numpy as np\n",
    "import random\n",
    "import pandas as pd\n",
    "import heapq\n",
    "from collections import Counter"
   ]
  },
  {
   "cell_type": "markdown",
   "metadata": {
    "button": false,
    "deletable": true,
    "new_sheet": false,
    "run_control": {
     "read_only": false
    }
   },
   "source": [
    "# Dataset Import"
   ]
  },
  {
   "cell_type": "code",
   "execution_count": 2,
   "metadata": {
    "ExecuteTime": {
     "end_time": "2020-02-28T09:32:56.925182Z",
     "start_time": "2020-02-28T09:32:56.922728Z"
    },
    "button": false,
    "collapsed": true,
    "deletable": true,
    "new_sheet": false,
    "run_control": {
     "read_only": false
    }
   },
   "outputs": [],
   "source": [
    "all_data = \"data/data_cleaned.txt\"\n",
    "movie_info_file = \"data/movies.txt\""
   ]
  },
  {
   "cell_type": "code",
   "execution_count": 3,
   "metadata": {
    "ExecuteTime": {
     "end_time": "2020-02-28T09:32:56.942498Z",
     "start_time": "2020-02-28T09:32:56.927193Z"
    },
    "button": false,
    "code_folding": [],
    "collapsed": true,
    "deletable": true,
    "new_sheet": false,
    "run_control": {
     "read_only": false
    }
   },
   "outputs": [],
   "source": [
    "colnames = ['movie_id', 'title', 'unknown', \"action\", \"adventure\", \"animation\", \n",
    "            \"childrens\", \"comedy\", \"crime\", \"documentary\", \"drama\", \"fantasy\", \n",
    "            \"film-noir\", \"horror\", \"musical\", \"mystery\", \"romance\", \"sci-fi\", \n",
    "            \"thriller\", \"war\", \"western\"]\n",
    "\n",
    "movie_info = pd.read_csv(movie_info_file, names=colnames, sep='\\t', header=None)"
   ]
  },
  {
   "cell_type": "code",
   "execution_count": 4,
   "metadata": {
    "ExecuteTime": {
     "end_time": "2020-02-28T09:32:57.576175Z",
     "start_time": "2020-02-28T09:32:56.944286Z"
    },
    "button": false,
    "collapsed": true,
    "deletable": true,
    "new_sheet": false,
    "run_control": {
     "read_only": false
    }
   },
   "outputs": [],
   "source": [
    "all_np = np.loadtxt(all_data, dtype=int)"
   ]
  },
  {
   "cell_type": "code",
   "execution_count": 5,
   "metadata": {
    "ExecuteTime": {
     "end_time": "2020-02-28T09:32:57.580486Z",
     "start_time": "2020-02-28T09:32:57.577966Z"
    },
    "button": false,
    "collapsed": true,
    "deletable": true,
    "new_sheet": false,
    "run_control": {
     "read_only": false
    }
   },
   "outputs": [],
   "source": [
    "id_to_movie_title = movie_info['title'].tolist()\n",
    "id_to_movie_title.insert(0, \"NO MOVIE WITH ID 0\")"
   ]
  },
  {
   "cell_type": "code",
   "execution_count": 6,
   "metadata": {
    "ExecuteTime": {
     "end_time": "2020-02-28T09:32:57.935640Z",
     "start_time": "2020-02-28T09:32:57.581944Z"
    },
    "button": false,
    "collapsed": true,
    "deletable": true,
    "new_sheet": false,
    "run_control": {
     "read_only": false
    }
   },
   "outputs": [],
   "source": [
    "movie_to_genre = dict()\n",
    "\n",
    "for index, row in movie_info.iterrows():\n",
    "    if row['title'] not in movie_to_genre:\n",
    "        movie_to_genre[row['title']] = row['unknown':'western'].to_numpy()\n"
   ]
  },
  {
   "cell_type": "markdown",
   "metadata": {
    "button": false,
    "deletable": true,
    "new_sheet": false,
    "run_control": {
     "read_only": false
    }
   },
   "source": [
    "# Visualizing All Ratings in MovieLens"
   ]
  },
  {
   "cell_type": "code",
   "execution_count": 7,
   "metadata": {
    "ExecuteTime": {
     "end_time": "2020-02-28T09:32:58.056735Z",
     "start_time": "2020-02-28T09:32:57.936978Z"
    },
    "button": false,
    "collapsed": false,
    "deletable": true,
    "new_sheet": false,
    "run_control": {
     "read_only": false
    }
   },
   "outputs": [
    {
     "data": {
      "image/png": "[encoded data removed]",
      "text/plain": [
       "<Figure size 432x288 with 1 Axes>"
      ]
     },
     "metadata": {
      "needs_background": "light"
     },
     "output_type": "display_data"
    }
   ],
   "source": [
    "plt.figure()\n",
    "\n",
    "plt.hist(all_np[:,-1], bins=5)\n",
    "plt.suptitle(\"Visualing Distribution of All Ratings\")\n",
    "plt.xlabel(\"Rating (1-5)\")\n",
    "plt.ylabel(\"Number of Occurrences\")\n",
    "\n",
    "plt.show()"
   ]
  },
  {
   "cell_type": "markdown",
   "metadata": {
    "button": false,
    "deletable": true,
    "new_sheet": false,
    "run_control": {
     "read_only": false
    }
   },
   "source": [
    "# Visualizing Ratings of 10 Most Popular (Most Rated) Movies"
   ]
  },
  {
   "cell_type": "markdown",
   "metadata": {
    "button": false,
    "deletable": true,
    "new_sheet": false,
    "run_control": {
     "read_only": false
    }
   },
   "source": [
    "## Get List of Most Rated Movies"
   ]
  },
  {
   "cell_type": "code",
   "execution_count": 8,
   "metadata": {
    "ExecuteTime": {
     "end_time": "2020-02-28T09:32:58.069210Z",
     "start_time": "2020-02-28T09:32:58.059266Z"
    },
    "button": false,
    "collapsed": false,
    "deletable": true,
    "new_sheet": false,
    "run_control": {
     "read_only": false
    },
    "scrolled": false
   },
   "outputs": [
    {
     "name": "stdout",
     "output_type": "stream",
     "text": [
      "['Star Wars (1977)', 'Contact (1997)', 'Fargo (1996)', 'Return of the Jedi (1983)', 'Liar Liar (1997)', 'English Patient, The (1996)', 'Scream (1996)', 'Toy Story (1995)', 'Air Force One (1997)', 'Independence Day (ID4) (1996)']\n"
     ]
    }
   ],
   "source": [
    "k = 10\n",
    "\n",
    "# get number of ratings per movie\n",
    "unique, counts = np.unique(all_np[:, 1], return_counts=True)\n",
    "\n",
    "# remove possible dupes by mapping movie title to rating count\n",
    "rating_count = dict()\n",
    "\n",
    "for u, count in zip(unique, counts):\n",
    "    if id_to_movie_title[u] not in rating_count:\n",
    "        rating_count[id_to_movie_title[u]] = 0\n",
    "    rating_count[id_to_movie_title[u]] += count\n",
    "\n",
    "# get k-most rated movies\n",
    "popular_movies = [elem[0] for elem in Counter(rating_count).most_common(k)]\n",
    "\n",
    "print(popular_movies)"
   ]
  },
  {
   "cell_type": "markdown",
   "metadata": {
    "button": false,
    "deletable": true,
    "new_sheet": false,
    "run_control": {
     "read_only": false
    }
   },
   "source": [
    "## Construct and Plot Most Popular Dataset"
   ]
  },
  {
   "cell_type": "code",
   "execution_count": 9,
   "metadata": {
    "ExecuteTime": {
     "end_time": "2020-02-28T09:32:58.239958Z",
     "start_time": "2020-02-28T09:32:58.071759Z"
    },
    "button": false,
    "collapsed": false,
    "deletable": true,
    "new_sheet": false,
    "run_control": {
     "read_only": false
    }
   },
   "outputs": [
    {
     "data": {
      "image/png": "[encoded data removed]",
      "text/plain": [
       "<Figure size 432x288 with 1 Axes>"
      ]
     },
     "metadata": {
      "needs_background": "light"
     },
     "output_type": "display_data"
    }
   ],
   "source": [
    "most_popular_ratings = []\n",
    "\n",
    "for row in all_np:\n",
    "    if id_to_movie_title[row[1]] in popular_movies:\n",
    "        most_popular_ratings.append(row[2])     \n",
    "\n",
    "plt.figure()\n",
    "\n",
    "unique, counts = np.unique(most_popular_ratings, return_counts=True)\n",
    "plt.bar(unique, counts, width=0.8)\n",
    "\n",
    "plt.suptitle(\"Visualing Distribution of Ratings of Top 10 Most Rated Movies\")\n",
    "plt.xlabel(\"Rating (1-5)\")\n",
    "plt.ylabel(\"Number of Occurrences\")\n",
    "plt.xlim((0.5,5.5))\n",
    "\n",
    "plt.show()"
   ]
  },
  {
   "cell_type": "markdown",
   "metadata": {
    "button": false,
    "deletable": true,
    "new_sheet": false,
    "run_control": {
     "read_only": false
    }
   },
   "source": [
    "# Visualizing Ratings of 10 Most Highly Rated Movies"
   ]
  },
  {
   "cell_type": "markdown",
   "metadata": {
    "button": false,
    "deletable": true,
    "new_sheet": false,
    "run_control": {
     "read_only": false
    }
   },
   "source": [
    "## Get List of Most Highly Rated Movies"
   ]
  },
  {
   "cell_type": "code",
   "execution_count": 10,
   "metadata": {
    "ExecuteTime": {
     "end_time": "2020-02-28T09:32:58.345561Z",
     "start_time": "2020-02-28T09:32:58.241974Z"
    },
    "button": false,
    "collapsed": false,
    "deletable": true,
    "new_sheet": false,
    "run_control": {
     "read_only": false
    }
   },
   "outputs": [
    {
     "name": "stdout",
     "output_type": "stream",
     "text": [
      "['Prefontaine (1997)', 'Santa with Muscles (1996)', 'Great Day in Harlem, A (1994)', 'Aiqing wansui (1994)', 'Star Kid (1997)', \"Someone Else's America (1995)\", 'Entertaining Angels: The Dorothy Day Story (1996)', 'Saint of Fort Washington, The (1993)', 'They Made Me a Criminal (1939)', 'Marlene Dietrich: Shadow and Light (1996) ']\n"
     ]
    }
   ],
   "source": [
    "k = 10\n",
    "\n",
    "movie_to_ratings = dict()\n",
    "\n",
    "for row in all_np:\n",
    "    if id_to_movie_title[row[1]] not in movie_to_ratings:\n",
    "        movie_to_ratings[id_to_movie_title[row[1]]] = []\n",
    "    movie_to_ratings[id_to_movie_title[row[1]]].append(row[-1])  \n",
    "    \n",
    "movie_to_avg_rating = dict()\n",
    "    \n",
    "for movie_title in movie_to_ratings:\n",
    "    movie_to_avg_rating[movie_title] = np.mean(movie_to_ratings[movie_title])   \n",
    "    \n",
    "best_rated_movies = [elem[0] for elem in Counter(movie_to_avg_rating).most_common(k)]\n",
    "print(best_rated_movies)"
   ]
  },
  {
   "cell_type": "markdown",
   "metadata": {
    "button": false,
    "deletable": true,
    "new_sheet": false,
    "run_control": {
     "read_only": false
    }
   },
   "source": [
    "## Construct and Plot Most Highly Rated Dataset"
   ]
  },
  {
   "cell_type": "code",
   "execution_count": 11,
   "metadata": {
    "ExecuteTime": {
     "end_time": "2020-02-28T09:32:58.509667Z",
     "start_time": "2020-02-28T09:32:58.346761Z"
    },
    "button": false,
    "collapsed": false,
    "deletable": true,
    "new_sheet": false,
    "run_control": {
     "read_only": false
    }
   },
   "outputs": [
    {
     "data": {
      "image/png": "[encoded data removed]",
      "text/plain": [
       "<Figure size 432x288 with 1 Axes>"
      ]
     },
     "metadata": {
      "needs_background": "light"
     },
     "output_type": "display_data"
    }
   ],
   "source": [
    "highly_rated_ratings = []\n",
    "\n",
    "for row in all_np:\n",
    "    if id_to_movie_title[row[1]] in best_rated_movies:\n",
    "        highly_rated_ratings.append(row[2])\n",
    "\n",
    "plt.figure()\n",
    "\n",
    "unique, counts = np.unique(highly_rated_ratings, return_counts=True)\n",
    "plt.bar(unique, counts, width=0.8)\n",
    "\n",
    "plt.xlim((0.5,5.5))\n",
    "\n",
    "plt.suptitle(\"Visualing Distribution of Ratings of Top 10 Most Rated Movies\")\n",
    "plt.xlabel(\"Rating (1-5)\")\n",
    "plt.ylabel(\"Number of Occurrences\")\n",
    "\n",
    "\n",
    "plt.show()"
   ]
  },
  {
   "cell_type": "markdown",
   "metadata": {
    "button": false,
    "deletable": true,
    "new_sheet": false,
    "run_control": {
     "read_only": false
    }
   },
   "source": [
    "# Visualizing Ratings of 3 Chosen Genres"
   ]
  },
  {
   "cell_type": "markdown",
   "metadata": {
    "button": false,
    "deletable": true,
    "new_sheet": false,
    "run_control": {
     "read_only": false
    }
   },
   "source": [
    "## Get List of Movies in the 3 Genres"
   ]
  },
  {
   "cell_type": "code",
   "execution_count": 12,
   "metadata": {
    "ExecuteTime": {
     "end_time": "2020-02-28T09:32:58.516336Z",
     "start_time": "2020-02-28T09:32:58.511388Z"
    },
    "button": false,
    "collapsed": true,
    "deletable": true,
    "new_sheet": false,
    "run_control": {
     "read_only": false
    }
   },
   "outputs": [],
   "source": [
    "ACTION = 1\n",
    "DRAMA = 8\n",
    "FANTASY = 9\n",
    "\n",
    "action = []\n",
    "drama = []\n",
    "fantasy = []\n",
    "\n",
    "for movie in movie_to_genre:\n",
    "    gv = movie_to_genre[movie]\n",
    "    if (gv[ACTION] == 1): \n",
    "        action.append(movie)\n",
    "    if (gv[DRAMA] == 1):\n",
    "        drama.append(movie)\n",
    "    if (gv[FANTASY] == 1):\n",
    "        fantasy.append(movie)"
   ]
  },
  {
   "cell_type": "markdown",
   "metadata": {
    "button": false,
    "deletable": true,
    "new_sheet": false,
    "run_control": {
     "read_only": false
    }
   },
   "source": [
    "## Construct and Plot Genre Dataset"
   ]
  },
  {
   "cell_type": "code",
   "execution_count": 13,
   "metadata": {
    "ExecuteTime": {
     "end_time": "2020-02-28T09:32:58.898357Z",
     "start_time": "2020-02-28T09:32:58.518549Z"
    },
    "button": false,
    "collapsed": false,
    "deletable": true,
    "new_sheet": false,
    "run_control": {
     "read_only": false
    }
   },
   "outputs": [
    {
     "data": {
      "image/png": "[encoded data removed]",
      "text/plain": [
       "<Figure size 432x288 with 1 Axes>"
      ]
     },
     "metadata": {
      "needs_background": "light"
     },
     "output_type": "display_data"
    }
   ],
   "source": [
    "action_ratings = []\n",
    "\n",
    "for row in all_np:\n",
    "    if id_to_movie_title[row[1]] in action:\n",
    "        action_ratings.append(row[2])\n",
    "\n",
    "plt.figure()\n",
    "\n",
    "unique, counts = np.unique(action_ratings, return_counts=True)\n",
    "plt.bar(unique, counts, width=0.8)\n",
    "\n",
    "plt.xlim((0.5,5.5))\n",
    "\n",
    "plt.suptitle(\"Visualing Distribution of Ratings of Action Movies\")\n",
    "plt.xlabel(\"Rating (1-5)\")\n",
    "plt.ylabel(\"Number of Occurrences\")\n",
    "\n",
    "plt.show()"
   ]
  },
  {
   "cell_type": "code",
   "execution_count": 14,
   "metadata": {
    "ExecuteTime": {
     "end_time": "2020-02-28T09:32:59.594417Z",
     "start_time": "2020-02-28T09:32:58.900118Z"
    },
    "button": false,
    "collapsed": false,
    "deletable": true,
    "new_sheet": false,
    "run_control": {
     "read_only": false
    }
   },
   "outputs": [
    {
     "data": {
      "image/png": "[encoded data removed]",
      "text/plain": [
       "<Figure size 432x288 with 1 Axes>"
      ]
     },
     "metadata": {
      "needs_background": "light"
     },
     "output_type": "display_data"
    }
   ],
   "source": [
    "drama_ratings = []\n",
    "\n",
    "for row in all_np:\n",
    "    if id_to_movie_title[row[1]] in drama:\n",
    "        drama_ratings.append(row[2])\n",
    "\n",
    "plt.figure()\n",
    "\n",
    "unique, counts = np.unique(drama_ratings, return_counts=True)\n",
    "plt.bar(unique, counts, width=0.8)\n",
    "\n",
    "plt.xlim((0.5,5.5))\n",
    "\n",
    "plt.suptitle(\"Visualing Distribution of Ratings of Drama Movies\")\n",
    "plt.xlabel(\"Rating (1-5)\")\n",
    "plt.ylabel(\"Number of Occurrences\")\n",
    "\n",
    "plt.show()"
   ]
  },
  {
   "cell_type": "code",
   "execution_count": 15,
   "metadata": {
    "ExecuteTime": {
     "end_time": "2020-02-28T09:32:59.748918Z",
     "start_time": "2020-02-28T09:32:59.596819Z"
    },
    "button": false,
    "collapsed": false,
    "deletable": true,
    "new_sheet": false,
    "run_control": {
     "read_only": false
    }
   },
   "outputs": [
    {
     "data": {
      "image/png": "[encoded data removed]",
      "text/plain": [
       "<Figure size 432x288 with 1 Axes>"
      ]
     },
     "metadata": {
      "needs_background": "light"
     },
     "output_type": "display_data"
    }
   ],
   "source": [
    "fantasy_ratings = []\n",
    "\n",
    "for row in all_np:\n",
    "    if id_to_movie_title[row[1]] in fantasy:\n",
    "        fantasy_ratings.append(row[2])\n",
    "\n",
    "plt.figure()\n",
    "\n",
    "unique, counts = np.unique(fantasy_ratings, return_counts=True)\n",
    "plt.bar(unique, counts, width=0.8)\n",
    "\n",
    "plt.xlim((0.5,5.5))\n",
    "\n",
    "plt.suptitle(\"Visualing Distribution of Ratings of Fantasy Movies\")\n",
    "plt.xlabel(\"Rating (1-5)\")\n",
    "plt.ylabel(\"Number of Occurrences\")\n",
    "\n",
    "plt.show()"
   ]
  },
  {
   "cell_type": "code",
   "execution_count": null,
   "metadata": {
    "button": false,
    "collapsed": true,
    "deletable": true,
    "new_sheet": false,
    "run_control": {
     "read_only": false
    }
   },
   "outputs": [],
   "source": []
  }
 ],
 "metadata": {
  "kernelspec": {
   "display_name": "Python 3",
   "language": "python",
   "name": "python3"
  },
  "language_info": {
   "codemirror_mode": {
    "name": "ipython",
    "version": 3
   },
   "file_extension": ".py",
   "mimetype": "text/x-python",
   "name": "python",
   "nbconvert_exporter": "python",
   "pygments_lexer": "ipython3",
   "version": "3.6.8"
  },
  "latex_envs": {
   "LaTeX_envs_menu_present": true,
   "autoclose": false,
   "autocomplete": true,
   "bibliofile": "biblio.bib",
   "cite_by": "apalike",
   "current_citInitial": 1,
   "eqLabelWithNumbers": true,
   "eqNumInitial": 1,
   "hotkeys": {
    "equation": "Ctrl-E",
    "itemize": "Ctrl-I"
   },
   "labels_anchors": false,
   "latex_user_defs": false,
   "report_style_numbering": false,
   "user_envs_cfg": false
  },
  "varInspector": {
   "cols": {
    "lenName": 16,
    "lenType": 16,
    "lenVar": 40
   },
   "kernels_config": {
    "python": {
     "delete_cmd_postfix": "",
     "delete_cmd_prefix": "del ",
     "library": "var_list.py",
     "varRefreshCmd": "print(var_dic_list())"
    },
    "r": {
     "delete_cmd_postfix": ") ",
     "delete_cmd_prefix": "rm(",
     "library": "var_list.r",
     "varRefreshCmd": "cat(var_dic_list()) "
    }
   },
   "types_to_exclude": [
    "module",
    "function",
    "builtin_function_or_method",
    "instance",
    "_Feature"
   ],
   "window_display": false
  }
 },
 "nbformat": 4,
 "nbformat_minor": 2
}
