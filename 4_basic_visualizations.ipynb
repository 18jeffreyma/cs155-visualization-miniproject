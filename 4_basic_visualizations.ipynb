{
 "cells": [
  {
   "cell_type": "markdown",
   "metadata": {},
   "source": [
    "# Imports"
   ]
  },
  {
   "cell_type": "code",
   "execution_count": 41,
   "metadata": {
    "ExecuteTime": {
     "end_time": "2020-02-27T02:19:39.670748Z",
     "start_time": "2020-02-27T02:19:39.667651Z"
    }
   },
   "outputs": [],
   "source": [
    "import matplotlib.pyplot as plt\n",
    "import seaborn as sns\n",
    "import numpy as np\n",
    "import random\n",
    "import pandas as pd\n",
    "import heapq\n",
    "from collections import Counter"
   ]
  },
  {
   "cell_type": "markdown",
   "metadata": {},
   "source": [
    "# Dataset Import"
   ]
  },
  {
   "cell_type": "code",
   "execution_count": 5,
   "metadata": {
    "ExecuteTime": {
     "end_time": "2020-02-27T02:04:03.647954Z",
     "start_time": "2020-02-27T02:04:03.645575Z"
    }
   },
   "outputs": [],
   "source": [
    "train_file = \"data/train.txt\"\n",
    "test_file = \"data/test.txt\"\n",
    "movie_info_file = \"data/movies.txt\""
   ]
  },
  {
   "cell_type": "code",
   "execution_count": 6,
   "metadata": {
    "ExecuteTime": {
     "end_time": "2020-02-27T02:04:06.491544Z",
     "start_time": "2020-02-27T02:04:06.473911Z"
    },
    "code_folding": []
   },
   "outputs": [],
   "source": [
    "colnames = ['movie_id', 'title', 'unknown', \"action\", \"adventure\", \"animation\", \n",
    "            \"childrens\", \"comedy\", \"crime\", \"documentary\", \"drama\", \"fantasy\", \n",
    "            \"film-noir\", \"horror\", \"musical\", \"mystery\", \"romance\", \"sci-fi\", \n",
    "            \"thriller\", \"war\", \"western\"]\n",
    "\n",
    "movie_info = pd.read_csv(movie_info_file, names=colnames, sep='\\t', header=None)"
   ]
  },
  {
   "cell_type": "code",
   "execution_count": 7,
   "metadata": {
    "ExecuteTime": {
     "end_time": "2020-02-27T02:04:08.861245Z",
     "start_time": "2020-02-27T02:04:08.051500Z"
    }
   },
   "outputs": [],
   "source": [
    "train_np = np.loadtxt(train_file, dtype=int)\n",
    "test_np = np.loadtxt(test_file, dtype=int)\n",
    "all_np = np.vstack([train_np, test_np])"
   ]
  },
  {
   "cell_type": "code",
   "execution_count": 8,
   "metadata": {
    "ExecuteTime": {
     "end_time": "2020-02-27T02:04:09.740252Z",
     "start_time": "2020-02-27T02:04:09.737100Z"
    }
   },
   "outputs": [],
   "source": [
    "id_to_movie_title = movie_info['title'].tolist()\n",
    "id_to_movie_title.insert(0, \"NO MOVIE WITH ID 0\")"
   ]
  },
  {
   "cell_type": "code",
   "execution_count": 10,
   "metadata": {
    "ExecuteTime": {
     "end_time": "2020-02-27T02:04:16.929760Z",
     "start_time": "2020-02-27T02:04:16.612668Z"
    }
   },
   "outputs": [],
   "source": [
    "movie_to_genre = dict()\n",
    "\n",
    "for index, row in movie_info.iterrows():\n",
    "    if row['title'] not in movie_to_genre:\n",
    "        movie_to_genre[row['title']] = row['unknown':'western'].to_numpy()\n"
   ]
  },
  {
   "cell_type": "markdown",
   "metadata": {},
   "source": [
    "# Visualizing All Ratings in MovieLens"
   ]
  },
  {
   "cell_type": "code",
   "execution_count": 46,
   "metadata": {
    "ExecuteTime": {
     "end_time": "2020-02-27T02:20:58.471547Z",
     "start_time": "2020-02-27T02:20:58.345628Z"
    }
   },
   "outputs": [
    {
     "data": {
      "image/png": "[encoded data removed]",
      "text/plain": [
       "<Figure size 432x288 with 1 Axes>"
      ]
     },
     "metadata": {
      "needs_background": "light"
     },
     "output_type": "display_data"
    }
   ],
   "source": [
    "plt.figure()\n",
    "\n",
    "plt.hist(all_np[:,-1], bins=5)\n",
    "plt.suptitle(\"Visualing Distribution of All Ratings\")\n",
    "plt.xlabel(\"Rating (1-5)\")\n",
    "plt.ylabel(\"Number of Occurrences\")\n",
    "\n",
    "plt.show()"
   ]
  },
  {
   "cell_type": "markdown",
   "metadata": {},
   "source": [
    "# Visualizing Ratings of 10 Most Popular (Most Rated) Movies"
   ]
  },
  {
   "cell_type": "markdown",
   "metadata": {},
   "source": [
    "## Get List of Most Rated Movies"
   ]
  },
  {
   "cell_type": "code",
   "execution_count": 44,
   "metadata": {
    "ExecuteTime": {
     "end_time": "2020-02-27T02:20:20.395866Z",
     "start_time": "2020-02-27T02:20:20.383454Z"
    },
    "scrolled": false
   },
   "outputs": [
    {
     "name": "stdout",
     "output_type": "stream",
     "text": [
      "['Star Wars (1977)', 'Contact (1997)', 'Fargo (1996)', 'Return of the Jedi (1983)', 'Liar Liar (1997)', 'English Patient, The (1996)', 'Scream (1996)', 'Toy Story (1995)', 'Air Force One (1997)', 'Independence Day (ID4) (1996)']\n"
     ]
    }
   ],
   "source": [
    "k = 10\n",
    "\n",
    "unique, counts = np.unique(all_np[:, 1], return_counts=True)\n",
    "\n",
    "rating_count = dict()\n",
    "\n",
    "for u, count in zip(unique, counts):\n",
    "    if id_to_movie_title[u] not in rating_count:\n",
    "        rating_count[id_to_movie_title[u]] = 0\n",
    "    rating_count[id_to_movie_title[u]] += count\n",
    "    \n",
    "popular_movies = [elem[0] for elem in Counter(rating_count).most_common(k)]\n",
    "\n",
    "print(popular_movies)"
   ]
  },
  {
   "cell_type": "markdown",
   "metadata": {},
   "source": [
    "## Construct and Plot Most Popular Dataset"
   ]
  },
  {
   "cell_type": "code",
   "execution_count": 48,
   "metadata": {
    "ExecuteTime": {
     "end_time": "2020-02-27T02:21:22.576215Z",
     "start_time": "2020-02-27T02:21:22.415596Z"
    }
   },
   "outputs": [
    {
     "data": {
      "image/png": "[encoded data removed]",
      "text/plain": [
       "<Figure size 432x288 with 1 Axes>"
      ]
     },
     "metadata": {
      "needs_background": "light"
     },
     "output_type": "display_data"
    }
   ],
   "source": [
    "most_popular_ratings = []\n",
    "\n",
    "for row in all_np:\n",
    "    if id_to_movie_title[row[1]] in popular_movies:\n",
    "        most_popular_ratings.append(row[2])\n",
    "\n",
    "plt.figure()\n",
    "\n",
    "plt.hist(most_popular_ratings, bins=5)\n",
    "plt.suptitle(\"Visualing Distribution of Ratings of Top 10 Most Rated Movies\")\n",
    "plt.xlabel(\"Rating (1-5)\")\n",
    "plt.ylabel(\"Number of Occurrences\")\n",
    "\n",
    "plt.show()"
   ]
  },
  {
   "cell_type": "markdown",
   "metadata": {},
   "source": [
    "# Visualizing Ratings of 10 Most Highly Rated Movies"
   ]
  },
  {
   "cell_type": "markdown",
   "metadata": {},
   "source": [
    "## Get List of Most Highly Rated Movies"
   ]
  },
  {
   "cell_type": "code",
   "execution_count": 56,
   "metadata": {
    "ExecuteTime": {
     "end_time": "2020-02-27T02:29:14.277545Z",
     "start_time": "2020-02-27T02:29:14.163047Z"
    }
   },
   "outputs": [],
   "source": [
    "k = 10\n",
    "\n",
    "movie_to_ratings = dict()\n",
    "\n",
    "for row in all_np:\n",
    "    if id_to_movie_title[row[1]] not in movie_to_ratings:\n",
    "        movie_to_ratings[id_to_movie_title[row[1]]] = []\n",
    "    movie_to_ratings[id_to_movie_title[row[1]]].append(row[-1])  \n",
    "    \n",
    "movie_to_avg_rating = dict()\n",
    "    \n",
    "for movie_title in movie_to_ratings:\n",
    "    movie_to_avg_rating[movie_title] = np.mean(movie_to_ratings[movie_title])   \n",
    "    \n",
    "best_rated_movies = [elem[0] for elem in Counter(movie_to_avg_rating).most_common(k)]"
   ]
  },
  {
   "cell_type": "markdown",
   "metadata": {},
   "source": [
    "## Construct and Plot Most Highly Rated Dataset"
   ]
  },
  {
   "cell_type": "code",
   "execution_count": 57,
   "metadata": {
    "ExecuteTime": {
     "end_time": "2020-02-27T02:31:05.377795Z",
     "start_time": "2020-02-27T02:31:05.218838Z"
    }
   },
   "outputs": [
    {
     "data": {
      "image/png": "[encoded data removed]",
      "text/plain": [
       "<Figure size 432x288 with 1 Axes>"
      ]
     },
     "metadata": {
      "needs_background": "light"
     },
     "output_type": "display_data"
    }
   ],
   "source": [
    "highly_rated_ratings = []\n",
    "\n",
    "for row in all_np:\n",
    "    if id_to_movie_title[row[1]] in best_rated_movies:\n",
    "        highly_rated_ratings.append(row[2])\n",
    "\n",
    "plt.figure()\n",
    "\n",
    "plt.hist(highly_rated_ratings, bins=5)\n",
    "plt.suptitle(\"Visualing Distribution of Ratings of Top 10 Most Rated Movies\")\n",
    "plt.xlabel(\"Rating (1-5)\")\n",
    "plt.ylabel(\"Number of Occurrences\")\n",
    "\n",
    "plt.show()"
   ]
  },
  {
   "cell_type": "markdown",
   "metadata": {},
   "source": [
    "# Visualizing Ratings of 3 Chosen Genres"
   ]
  },
  {
   "cell_type": "markdown",
   "metadata": {},
   "source": [
    "## Get List of Movies in the 3 Genres"
   ]
  },
  {
   "cell_type": "code",
   "execution_count": 59,
   "metadata": {
    "ExecuteTime": {
     "end_time": "2020-02-27T02:35:34.158990Z",
     "start_time": "2020-02-27T02:35:34.154705Z"
    }
   },
   "outputs": [],
   "source": [
    "ACTION = 1\n",
    "DRAMA = 8\n",
    "FANTASY = 9\n",
    "\n",
    "chosen_movies = []\n",
    "\n",
    "for movie in movie_to_genre:\n",
    "    gv = movie_to_genre[movie]\n",
    "    if (gv[ACTION] == 1 or gv[DRAMA] == 1 or gv[FANTASY]):\n",
    "        chosen_movies.append(movie)"
   ]
  },
  {
   "cell_type": "markdown",
   "metadata": {},
   "source": [
    "## Construct and Plot Genre Dataset"
   ]
  },
  {
   "cell_type": "code",
   "execution_count": 61,
   "metadata": {
    "ExecuteTime": {
     "end_time": "2020-02-27T02:35:55.445730Z",
     "start_time": "2020-02-27T02:35:54.839799Z"
    }
   },
   "outputs": [
    {
     "data": {
      "image/png": "[encoded data removed]",
      "text/plain": [
       "<Figure size 432x288 with 1 Axes>"
      ]
     },
     "metadata": {
      "needs_background": "light"
     },
     "output_type": "display_data"
    }
   ],
   "source": [
    "chosen_ratings = []\n",
    "\n",
    "for row in all_np:\n",
    "    if id_to_movie_title[row[1]] in chosen_movies:\n",
    "        chosen_ratings.append(row[2])\n",
    "\n",
    "plt.figure()\n",
    "\n",
    "plt.hist(chosen_ratings, bins=5)\n",
    "plt.suptitle(\"Visualing Distribution of Ratings of Action, Drama, and Fantasy Movies\")\n",
    "plt.xlabel(\"Rating (1-5)\")\n",
    "plt.ylabel(\"Number of Occurrences\")\n",
    "\n",
    "plt.show()"
   ]
  }
 ],
 "metadata": {
  "kernelspec": {
   "display_name": "Python 3",
   "language": "python",
   "name": "python3"
  },
  "latex_envs": {
   "LaTeX_envs_menu_present": true,
   "autoclose": false,
   "autocomplete": true,
   "bibliofile": "biblio.bib",
   "cite_by": "apalike",
   "current_citInitial": 1,
   "eqLabelWithNumbers": true,
   "eqNumInitial": 1,
   "hotkeys": {
    "equation": "Ctrl-E",
    "itemize": "Ctrl-I"
   },
   "labels_anchors": false,
   "latex_user_defs": false,
   "report_style_numbering": false,
   "user_envs_cfg": false
  },
  "varInspector": {
   "cols": {
    "lenName": 16,
    "lenType": 16,
    "lenVar": 40
   },
   "kernels_config": {
    "python": {
     "delete_cmd_postfix": "",
     "delete_cmd_prefix": "del ",
     "library": "var_list.py",
     "varRefreshCmd": "print(var_dic_list())"
    },
    "r": {
     "delete_cmd_postfix": ") ",
     "delete_cmd_prefix": "rm(",
     "library": "var_list.r",
     "varRefreshCmd": "cat(var_dic_list()) "
    }
   },
   "types_to_exclude": [
    "module",
    "function",
    "builtin_function_or_method",
    "instance",
    "_Feature"
   ],
   "window_display": false
  }
 },
 "nbformat": 4,
 "nbformat_minor": 2
}
