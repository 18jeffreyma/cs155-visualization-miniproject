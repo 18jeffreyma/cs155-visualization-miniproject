{
 "cells": [
  {
   "cell_type": "code",
   "execution_count": 2,
   "metadata": {
    "ExecuteTime": {
     "end_time": "2020-02-27T12:41:19.469154Z",
     "start_time": "2020-02-27T12:41:19.153154Z"
    }
   },
   "outputs": [],
   "source": [
    "import pandas as pd\n",
    "import numpy as np\n",
    "import matplotlib.pyplot as plt\n",
    "import numpy as np\n",
    "import random"
   ]
  },
  {
   "cell_type": "code",
   "execution_count": 3,
   "metadata": {
    "ExecuteTime": {
     "end_time": "2020-02-27T12:41:21.450472Z",
     "start_time": "2020-02-27T12:41:20.953212Z"
    }
   },
   "outputs": [],
   "source": [
    "# Create m x n matrix for Y\n",
    "Y_train = np.loadtxt('./data/train.txt').astype(int)\n",
    "Y_test = np.loadtxt('./data/test.txt').astype(int)\n",
    "\n",
    "def center(train, test):\n",
    "    avg = np.mean(train[:,2])\n",
    "    train[:,2] = train[:,2 ] - avg\n",
    "    test[:,2] = test[:, 2] - avg\n",
    "\n",
    "center(Y_train, Y_test)"
   ]
  },
  {
   "cell_type": "markdown",
   "metadata": {},
   "source": [
    "## Method 2 (Adding Bias Term a and b)\n",
    "### Train Model"
   ]
  },
  {
   "cell_type": "code",
   "execution_count": 4,
   "metadata": {
    "ExecuteTime": {
     "end_time": "2020-02-27T12:41:22.452004Z",
     "start_time": "2020-02-27T12:41:22.442676Z"
    }
   },
   "outputs": [],
   "source": [
    "def grad_U(Ui, Yij, Vj, reg, eta, a, b):\n",
    "    return eta * (np.dot(reg, Ui) - (np.dot(Vj, ((Yij) - np.dot(Ui, Vj) - a - b ))))\n",
    "\n",
    "def grad_V(Ui, Yij, Vj, reg, eta, a, b):\n",
    "    return eta * (np.dot(reg, Vj) - (np.dot(Ui, ((Yij) - np.dot(Ui, Vj) - a - b ))))\n",
    "\n",
    "def grad_A(Ui, Yij, Vj, reg, eta, a, b):\n",
    "    return -eta * ((Yij) - np.dot(Ui, Vj) - a - b  - (reg * a))\n",
    "    \n",
    "def grad_B(Ui, Yij, Vj, reg, eta, a, b):\n",
    "    return -eta * ((Yij) - np.dot(Ui, Vj) - a - b  - (reg * b))\n",
    "    \n",
    "def get_err(U, V, Y, A, B, reg=0.0):\n",
    "    err = 0.0\n",
    "    for (i, j, Yij) in Y:\n",
    "        err += .5 * (((Yij) - (np.dot(U[i-1], V[j-1]) + A[i-1] + B[j-1])) ** 2)\n",
    "        \n",
    "    err += 0.5 * reg * (np.linalg.norm(U)**2 + np.linalg.norm(V)**2 \n",
    "                    + np.linalg.norm(A)**2 + np.linalg.norm(B)**2)\n",
    "    \n",
    "    return err / len(Y)"
   ]
  },
  {
   "cell_type": "code",
   "execution_count": 5,
   "metadata": {
    "ExecuteTime": {
     "end_time": "2020-02-27T12:41:58.835035Z",
     "start_time": "2020-02-27T12:41:58.818877Z"
    },
    "code_folding": []
   },
   "outputs": [],
   "source": [
    "def train_model(M, N, K, eta, reg, Y, eps=0.0001, max_epochs=300):\n",
    "  \n",
    "    itr = 0\n",
    "    U = np.random.uniform(-0.5, 0.5, (M, K))\n",
    "    V = np.random.uniform(-0.5, 0.5, (N, K))\n",
    "\n",
    "    A = np.random.uniform(-0.5, 0.5, (M))\n",
    "    B = np.random.uniform(-0.5, 0.5, (N))\n",
    "   \n",
    "    curr_loss = get_err(U, V, Y, A, B)\n",
    "    \n",
    "    shuffled = np.random.permutation(list(range(len(Y))))\n",
    "    \n",
    "    for k in range(len(Y)):\n",
    "        i, j, Yij = Y[shuffled[k]]\n",
    "        \n",
    "        # update U, V, A, B\n",
    "        u = grad_U(U[i-1], Yij, V[j-1], reg, eta, A[i-1], B[j-1])\n",
    "        v = grad_V(U[i-1], Yij, V[j-1], reg, eta, A[i-1], B[j-1])\n",
    "        a = grad_A(U[i-1], Yij, V[j-1], reg, eta, A[i-1], B[j-1])\n",
    "        b = grad_B(U[i-1], Yij, V[j-1], reg, eta, A[i-1], B[j-1])\n",
    "        \n",
    "        U[i-1] = U[i-1] - u \n",
    "        V[j-1] = V[j-1] - v\n",
    "        A[i-1] = A[i-1] - a\n",
    "        B[j-1] = B[j-1] - b\n",
    "        \n",
    "    next_loss = get_err(U, V, Y, A, B)\n",
    "    init = curr_loss - next_loss\n",
    "    curr_delta = init\n",
    "    curr_loss = next_loss\n",
    "    \n",
    "    while itr < max_epochs and (curr_delta / init) > eps:\n",
    "        shuffled = np.random.permutation(list(range(len(Y))))\n",
    "        for k in range(len(Y)): \n",
    "            i, j, Yij = Y[shuffled[k]]\n",
    "            \n",
    "            # update U, V, A, B\n",
    "            u = grad_U(U[i-1], Yij, V[j-1], reg, eta, A[i-1], B[j-1])\n",
    "            v = grad_V(U[i-1], Yij, V[j-1], reg, eta, A[i-1], B[j-1])\n",
    "            a = grad_A(U[i-1], Yij, V[j-1], reg, eta, A[i-1], B[j-1])\n",
    "            b = grad_B(U[i-1], Yij, V[j-1], reg, eta, A[i-1], B[j-1])\n",
    "\n",
    "            U[i-1] = U[i-1] - u \n",
    "            V[j-1] = V[j-1] - v\n",
    "            A[i-1] = A[i-1] - a\n",
    "            B[j-1] = B[j-1] - b\n",
    "            \n",
    "        next_loss = get_err(U,V,Y, A,B)\n",
    "        \n",
    "        curr_delta = curr_loss - next_loss\n",
    "        curr_loss = next_loss\n",
    "        itr += 1\n",
    "        \n",
    "    return U, V, curr_loss, A, B"
   ]
  },
  {
   "cell_type": "code",
   "execution_count": 7,
   "metadata": {
    "ExecuteTime": {
     "end_time": "2020-02-27T21:20:50.239667Z",
     "start_time": "2020-02-27T21:17:21.914285Z"
    }
   },
   "outputs": [
    {
     "name": "stdout",
     "output_type": "stream",
     "text": [
      "Factorizing with  943  users,  1682  movies.\n",
      "Training error is: 0.06793248348724211\n",
      "Test error is: 0.35363824437620983\n"
     ]
    }
   ],
   "source": [
    "# Create 943 users x 1682 movies \n",
    "M = max(max(Y_train[:,0]), max(Y_test[:,0])).astype(int) # users\n",
    "N = max(max(Y_train[:,1]), max(Y_test[:,1])).astype(int) # movies\n",
    "print(\"Factorizing with \", M, \" users, \", N, \" movies.\")\n",
    "\n",
    "k = 20\n",
    "reg = 0.0\n",
    "eta = 0.03 # learning rate\n",
    "\n",
    "# Train model with no regularization\n",
    "U, V, E_in, A, B = train_model(M, N, k, eta, reg, Y_train)\n",
    "E_out = get_err(U, V, Y_test, A, B)\n",
    "\n",
    "print(\"Training error is: \" + str(E_in))\n",
    "print(\"Test error is: \" + str(E_out))"
   ]
  },
  {
   "cell_type": "markdown",
   "metadata": {},
   "source": [
    "### Test Regularization Strengths"
   ]
  },
  {
   "cell_type": "code",
   "execution_count": 10,
   "metadata": {},
   "outputs": [
    {
     "name": "stdout",
     "output_type": "stream",
     "text": [
      "Regularization = 0.0010: \n",
      "Training error is 0.0705 and Test error is 0.3236\n",
      "Regularization = 0.0100: \n",
      "Training error is 0.0723 and Test error is 0.2817\n",
      "Regularization = 0.1000: \n",
      "Training error is 0.1579 and Test error is 0.2022\n",
      "Regularization = 1.0000: \n",
      "Training error is 0.2214 and Test error is 0.2253\n"
     ]
    }
   ],
   "source": [
    "# Test various values of regularization to reduce overfitting\n",
    "test_reg = [10**-3, 10**-2, 10**-1, 1]\n",
    "\n",
    "for r in test_reg:\n",
    "    U_reg, V_reg, E_in_reg, A_reg, B_reg = train_model(M, N, k, eta, r, Y_train)\n",
    "    E_out_reg = get_err(U_reg, V_reg, Y_test, A_reg, B_reg)\n",
    "    print('Regularization = %.4f: \\nTraining error is %.4f and Test error is %.4f' % (r, E_in_reg, E_out_reg))"
   ]
  },
  {
   "cell_type": "code",
   "execution_count": 11,
   "metadata": {},
   "outputs": [
    {
     "name": "stdout",
     "output_type": "stream",
     "text": [
      "Training error is: 0.16094680431835792\n",
      "Test error is: 0.20054765913275374\n"
     ]
    }
   ],
   "source": [
    "# Train model with best regularization chosen from testing various strengths\n",
    "reg = 0.1\n",
    "\n",
    "U, V, E_in, A, B = train_model(M, N, k, eta, reg, Y_train)\n",
    "E_out = get_err(U, V, Y_test, A, B)\n",
    "\n",
    "print(\"Training error is: \" + str(E_in))\n",
    "print(\"Test error is: \" + str(E_out))"
   ]
  },
  {
   "cell_type": "markdown",
   "metadata": {},
   "source": [
    "## Visualize and Interpret Results"
   ]
  },
  {
   "cell_type": "code",
   "execution_count": null,
   "metadata": {
    "ExecuteTime": {
     "end_time": "2020-02-27T11:34:11.206159Z",
     "start_time": "2020-02-27T11:34:11.181306Z"
    }
   },
   "outputs": [],
   "source": [
    "# Visualize and interpret results\n",
    "def visualize(U, V):\n",
    "    ''' \n",
    "        U (k x M)\n",
    "        V (k x N)\n",
    "    '''\n",
    "    A, sigma, B = np.linalg.svd(V)\n",
    "    U_tilde = np.matmul(np.transpose(A[:,:2]), U)\n",
    "    V_tilde = np.matmul(np.transpose(A[:,:2]), V)\n",
    "    return U_tilde, V_tilde\n",
    "    \n",
    "U_tilde, V_tilde = visualize(np.transpose(U), np.transpose(V))"
   ]
  },
  {
   "cell_type": "code",
   "execution_count": null,
   "metadata": {
    "ExecuteTime": {
     "end_time": "2020-02-27T11:36:50.311017Z",
     "start_time": "2020-02-27T11:34:14.100018Z"
    }
   },
   "outputs": [],
   "source": [
    "colnames = ['movie_id', 'title', 'unknown', \"action\", \"adventure\", \"animation\", \n",
    "            \"childrens\", \"comedy\", \"crime\", \"documentary\", \"drama\", \"fantasy\", \n",
    "            \"film-noir\", \"horror\", \"musical\", \"mystery\", \"romance\", \"sci-fi\", \n",
    "            \"thriller\", \"war\", \"western\"]\n",
    "movie_info = pd.read_csv(\"data/movies.txt\", names=colnames, sep='\\t', header=None)\n",
    "\n",
    "movie_to_genre = dict()\n",
    "\n",
    "for index, row in movie_info.iterrows():\n",
    "    if row['title'] not in movie_to_genre:\n",
    "        movie_to_genre[row['title']] = row['unknown':'western'].to_numpy()\n",
    "\n",
    "id_to_movie_title = movie_info['title'].tolist()\n",
    "id_to_movie_title.insert(0, \"NO MOVIE WITH ID 0\")\n",
    "\n",
    "movie_to_id = dict()\n",
    "\n",
    "for i in range(1,len(id_to_movie_title)):\n",
    "    if (id_to_movie_title[i] not in movie_to_id):\n",
    "        movie_to_id[id_to_movie_title[i]] = i        "
   ]
  },
  {
   "cell_type": "markdown",
   "metadata": {},
   "source": [
    "### Plot 10 Movies from Entire Dataset"
   ]
  },
  {
   "cell_type": "code",
   "execution_count": null,
   "metadata": {
    "ExecuteTime": {
     "end_time": "2020-02-27T08:58:18.218696Z",
     "start_time": "2020-02-27T08:58:18.198723Z"
    }
   },
   "outputs": [],
   "source": [
    "np.random.seed(42)\n",
    "movies = np.random.choice(list(movie_to_genre.keys()), 10)\n",
    "movie_ids = [movie_to_id[m] for m in movies]\n",
    "\n",
    "# ====================== TEN CHOSEN MOVIES PLOT ======================\n",
    "V_ten = np.take(np.transpose(V_tilde), movie_ids, axis=0)\n",
    "\n",
    "fig = plt.figure(figsize=(11, 9), dpi=80)\n",
    "ax = fig.add_subplot(1, 1, 1)\n",
    "\n",
    "# Move left y-axis and bottim x-axis to centre, passing through (0,0)\n",
    "ax.spines['left'].set_position('center')\n",
    "ax.spines['bottom'].set_position('center')\n",
    "\n",
    "# Eliminate upper and right axes\n",
    "ax.spines['right'].set_color('none')\n",
    "ax.spines['top'].set_color('none')\n",
    "\n",
    "# Show ticks in the left and lower axes only\n",
    "ax.xaxis.set_ticks_position('bottom')\n",
    "ax.yaxis.set_ticks_position('left')\n",
    "\n",
    "for i in range(len(V_ten)):\n",
    "    x = V_ten[i][0]\n",
    "    y = V_ten[i][1]\n",
    "    plt.scatter(x, y, marker='.', color='blue', s=100)\n",
    "    plt.text(x - 0.1, y + 0.03, movies[i], fontsize=11)\n",
    "plt.title('Method 1: 10 Movies from MovieLens dataset')\n",
    "plt.show()"
   ]
  },
  {
   "cell_type": "markdown",
   "metadata": {},
   "source": [
    "### Plot 10 Most Popular Movies"
   ]
  },
  {
   "cell_type": "code",
   "execution_count": null,
   "metadata": {
    "ExecuteTime": {
     "end_time": "2020-02-27T08:59:59.863699Z",
     "start_time": "2020-02-27T08:58:37.142915Z"
    }
   },
   "outputs": [],
   "source": [
    "popular_movies = ['Star Wars (1977)', 'Contact (1997)', 'Fargo (1996)', \n",
    "                  'Return of the Jedi (1983)', 'Liar Liar (1997)', \n",
    "                  'English Patient, The (1996)', 'Scream (1996)', \n",
    "                  'Toy Story (1995)', 'Air Force One (1997)', \n",
    "                  'Independence Day (ID4) (1996)']\n",
    "pop_movies_id = [movie_to_id[m] for m in popular_movies]\n",
    "\n",
    "# ====================== TEN MOST POPULAR MOVIES PLOT ======================\n",
    "V_pop = np.take(np.transpose(V_tilde), pop_movies_id, axis=0)\n",
    "\n",
    "fig = plt.figure(figsize=(11, 9), dpi=80)\n",
    "ax = fig.add_subplot(1, 1, 1)\n",
    "\n",
    "# Center axes\n",
    "ax.spines['left'].set_position('center')\n",
    "ax.spines['bottom'].set_position('center')\n",
    "ax.spines['right'].set_color('none')\n",
    "ax.spines['top'].set_color('none')\n",
    "ax.xaxis.set_ticks_position('bottom')\n",
    "ax.yaxis.set_ticks_position('left')\n",
    "\n",
    "for i in range(len(V_pop)):\n",
    "    x = V_pop[i][0]\n",
    "    y = V_pop[i][1]\n",
    "    plt.scatter(x, y, marker='.', color='blue', s=100)\n",
    "    plt.text(x - 0.1, y + 0.03, popular_movies[i], fontsize=11)\n",
    "plt.title('Method 1: 10 Most Popular Movies')\n",
    "plt.show()"
   ]
  },
  {
   "cell_type": "markdown",
   "metadata": {},
   "source": [
    "### Plot 10 Best Movies"
   ]
  },
  {
   "cell_type": "code",
   "execution_count": 9,
   "metadata": {
    "ExecuteTime": {
     "end_time": "2020-02-27T12:35:34.106524Z",
     "start_time": "2020-02-27T12:35:34.082694Z"
    }
   },
   "outputs": [],
   "source": [
    "best_movies = ['Prefontaine (1997)', 'Santa with Muscles (1996)', \n",
    "               'Great Day in Harlem, A (1994)', 'Aiqing wansui (1994)', \n",
    "               'Star Kid (1997)', \"Someone Else's America (1995)\", \n",
    "               'Entertaining Angels: The Dorothy Day Story (1996)', \n",
    "               'Saint of Fort Washington, The (1993)', \n",
    "               'They Made Me a Criminal (1939)', \n",
    "               'Marlene Dietrich: Shadow and Light (1996) ']\n",
    "\n",
    "best_movies_id = [movie_to_id[m] for m in best_movies]\n",
    "\n",
    "# ====================== TEN BEST MOVIES PLOT ======================\n",
    "V_best = np.take(np.transpose(V_tilde), best_movies_id, axis=0)\n",
    "\n",
    "fig = plt.figure(figsize=(11, 9), dpi=80)\n",
    "ax = fig.add_subplot(1, 1, 1)\n",
    "\n",
    "# Center axes\n",
    "ax.spines['left'].set_position('center')\n",
    "ax.spines['bottom'].set_position('center')\n",
    "ax.spines['right'].set_color('none')\n",
    "ax.spines['top'].set_color('none')\n",
    "ax.xaxis.set_ticks_position('bottom')\n",
    "ax.yaxis.set_ticks_position('left')\n",
    "\n",
    "for i in range(len(V_best)):\n",
    "    x = V_best[i][0]\n",
    "    y = V_best[i][1]\n",
    "    plt.scatter(x, y, marker='.', color='blue', s=100)\n",
    "    plt.text(x - 0.1, y + 0.03, best_movies[i], fontsize=11)\n",
    "plt.title('Method 1: 10 Best Movies')\n",
    "plt.show()"
   ]
  },
  {
   "cell_type": "markdown",
   "metadata": {},
   "source": [
    "### Plot 10 Movies from 3 Genres"
   ]
  },
  {
   "cell_type": "code",
   "execution_count": null,
   "metadata": {
    "ExecuteTime": {
     "end_time": "2020-02-27T12:38:52.928658Z",
     "start_time": "2020-02-27T12:35:40.370758Z"
    }
   },
   "outputs": [],
   "source": [
    "action = []\n",
    "drama = []\n",
    "fantasy = []\n",
    "\n",
    "for key, val in movie_to_genre.items():\n",
    "    if val[1]:\n",
    "        action.append(key)\n",
    "    if val[8]:\n",
    "        drama.append(key)\n",
    "    if val[9]:\n",
    "        fantasy.append(key)\n",
    "        \n",
    "np.random.seed(42)       \n",
    "action = np.random.choice(action, 10)\n",
    "action_id = [movie_to_id[m] for m in action]\n",
    "\n",
    "np.random.seed(42)\n",
    "drama = np.random.choice(drama, 10)\n",
    "drama_id = [movie_to_id[m] for m in drama]\n",
    "\n",
    "np.random.seed(42)\n",
    "fantasy = np.random.choice(fantasy, 10)\n",
    "fantasy_id = [movie_to_id[m] for m in fantasy]\n",
    "\n",
    "# ====================== TEN MOVIES FROM EACH OF THE THREE GENRES PLOT ======================\n",
    "\n",
    "# ACTION GENRE\n",
    "V_action = np.take(np.transpose(V_tilde), action_id, axis=0)\n",
    "\n",
    "fig = plt.figure(figsize=(11, 9), dpi=80)\n",
    "ax = fig.add_subplot(1, 1, 1)\n",
    "\n",
    "# Center axes\n",
    "ax.spines['left'].set_position('center')\n",
    "ax.spines['bottom'].set_position('center')\n",
    "ax.spines['right'].set_color('none')\n",
    "ax.spines['top'].set_color('none')\n",
    "ax.xaxis.set_ticks_position('bottom')\n",
    "ax.yaxis.set_ticks_position('left')\n",
    "\n",
    "for i in range(len(V_action)):\n",
    "    x = V_action[i][0]\n",
    "    y = V_action[i][1]\n",
    "    plt.scatter(x, y, marker='.', color='red', s=100)\n",
    "    plt.text(x - 0.1, y + 0.03, action[i], fontsize=11)\n",
    "plt.title('Method 1: 10 Movies from the Action Genre')\n",
    "plt.show()\n",
    "\n",
    "# DRAMA GENRE\n",
    "V_drama = np.take(np.transpose(V_tilde), drama_id, axis=0)\n",
    "\n",
    "fig = plt.figure(figsize=(11, 9), dpi=80)\n",
    "ax = fig.add_subplot(1, 1, 1)\n",
    "\n",
    "# Center axes\n",
    "ax.spines['left'].set_position('center')\n",
    "ax.spines['bottom'].set_position('center')\n",
    "ax.spines['right'].set_color('none')\n",
    "ax.spines['top'].set_color('none')\n",
    "ax.xaxis.set_ticks_position('bottom')\n",
    "ax.yaxis.set_ticks_position('left')\n",
    "\n",
    "for i in range(len(V_drama)):\n",
    "    x = V_drama[i][0]\n",
    "    y = V_drama[i][1]\n",
    "    plt.scatter(x, y, marker='.', color='blue', s=100)\n",
    "    plt.text(x - 0.1, y + 0.03, drama[i], fontsize=11)\n",
    "plt.title('Method 1: 10 Movies from the Drama Genre')\n",
    "plt.show()\n",
    "\n",
    "# FANTASY GENRE\n",
    "V_fantasy = np.take(np.transpose(V_tilde), fantasy_id, axis=0)\n",
    "\n",
    "fig = plt.figure(figsize=(11, 9), dpi=80)\n",
    "ax = fig.add_subplot(1, 1, 1)\n",
    "\n",
    "# Center axes\n",
    "ax.spines['left'].set_position('center')\n",
    "ax.spines['bottom'].set_position('center')\n",
    "ax.spines['right'].set_color('none')\n",
    "ax.spines['top'].set_color('none')\n",
    "ax.xaxis.set_ticks_position('bottom')\n",
    "ax.yaxis.set_ticks_position('left')\n",
    "\n",
    "for i in range(len(V_fantasy)):\n",
    "    x = V_fantasy[i][0]\n",
    "    y = V_fantasy[i][1]\n",
    "    plt.scatter(x, y, marker='.', color='purple', s=100)\n",
    "    plt.text(x - 0.1, y + 0.03, fantasy[i], fontsize=11)\n",
    "plt.title('Method 1: 10 Movies from the Fantasy Genre')\n",
    "plt.show()"
   ]
  }
 ],
 "metadata": {
  "kernelspec": {
   "display_name": "Python 3",
   "language": "python",
   "name": "python3"
  },
  "language_info": {
   "codemirror_mode": {
    "name": "ipython",
    "version": 3
   },
   "file_extension": ".py",
   "mimetype": "text/x-python",
   "name": "python",
   "nbconvert_exporter": "python",
   "pygments_lexer": "ipython3",
   "version": "3.6.9"
  },
  "latex_envs": {
   "LaTeX_envs_menu_present": true,
   "autoclose": false,
   "autocomplete": true,
   "bibliofile": "biblio.bib",
   "cite_by": "apalike",
   "current_citInitial": 1,
   "eqLabelWithNumbers": true,
   "eqNumInitial": 1,
   "hotkeys": {
    "equation": "Ctrl-E",
    "itemize": "Ctrl-I"
   },
   "labels_anchors": false,
   "latex_user_defs": false,
   "report_style_numbering": false,
   "user_envs_cfg": false
  },
  "varInspector": {
   "cols": {
    "lenName": 16,
    "lenType": 16,
    "lenVar": 40
   },
   "kernels_config": {
    "python": {
     "delete_cmd_postfix": "",
     "delete_cmd_prefix": "del ",
     "library": "var_list.py",
     "varRefreshCmd": "print(var_dic_list())"
    },
    "r": {
     "delete_cmd_postfix": ") ",
     "delete_cmd_prefix": "rm(",
     "library": "var_list.r",
     "varRefreshCmd": "cat(var_dic_list()) "
    }
   },
   "types_to_exclude": [
    "module",
    "function",
    "builtin_function_or_method",
    "instance",
    "_Feature"
   ],
   "window_display": false
  }
 },
 "nbformat": 4,
 "nbformat_minor": 4
}
