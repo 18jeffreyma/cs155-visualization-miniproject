{
 "cells": [
  {
   "cell_type": "code",
   "execution_count": 1,
   "metadata": {
    "ExecuteTime": {
     "end_time": "2020-02-27T12:41:19.469154Z",
     "start_time": "2020-02-27T12:41:19.153154Z"
    }
   },
   "outputs": [],
   "source": [
    "import pandas as pd\n",
    "import numpy as np\n",
    "import matplotlib.pyplot as plt\n",
    "import numpy as np\n",
    "import random"
   ]
  },
  {
   "cell_type": "code",
   "execution_count": 2,
   "metadata": {
    "ExecuteTime": {
     "end_time": "2020-02-27T12:41:21.450472Z",
     "start_time": "2020-02-27T12:41:20.953212Z"
    }
   },
   "outputs": [],
   "source": [
    "# Create m x n matrix for Y\n",
    "Y_train = np.loadtxt('./data/train.txt').astype(int)\n",
    "Y_test = np.loadtxt('./data/test.txt').astype(int)\n",
    "\n",
    "def center(train, test):\n",
    "    avg = np.mean(train[:,2])\n",
    "    train[:,2] = train[:,2 ] - avg\n",
    "    test[:,2] = test[:, 2] - avg\n",
    "\n",
    "center(Y_train, Y_test)"
   ]
  },
  {
   "cell_type": "markdown",
   "metadata": {},
   "source": [
    "### Method 2 (Adding Bias Term a and b)"
   ]
  },
  {
   "cell_type": "code",
   "execution_count": 3,
   "metadata": {
    "ExecuteTime": {
     "end_time": "2020-02-27T12:41:22.452004Z",
     "start_time": "2020-02-27T12:41:22.442676Z"
    }
   },
   "outputs": [],
   "source": [
    "def grad_U(Ui, Yij, Vj, reg, eta, a, b):\n",
    "    return eta * (np.dot(reg, Ui) - (np.dot(Vj, ((Yij) - np.dot(Ui, Vj) - a - b ))))\n",
    "\n",
    "def grad_V(Ui, Yij, Vj, reg, eta, a, b):\n",
    "    return eta * (np.dot(reg, Vj) - (np.dot(Ui, ((Yij) - np.dot(Ui, Vj) - a - b ))))\n",
    "\n",
    "def grad_A(Ui, Yij, Vj, reg, eta, a, b):\n",
    "    return -eta * ((Yij) - np.dot(Ui, Vj) - a - b  - (reg * a))\n",
    "    \n",
    "def grad_B(Ui, Yij, Vj, reg, eta, a, b):\n",
    "    return -eta * ((Yij) - np.dot(Ui, Vj) - a - b  - (reg * b))\n",
    "    \n",
    "def get_err(U, V, Y, A, B, reg=0.0):\n",
    "    err = 0.0\n",
    "    for (i, j, Yij) in Y:\n",
    "        err += .5 * (((Yij) - (np.dot(U[i-1], V[j-1]) + A[i-1] + B[j-1])) ** 2)\n",
    "        \n",
    "    err += 0.5 * reg * (np.linalg.norm(U)**2 + np.linalg.norm(V)**2 \n",
    "                    + np.linalg.norm(A)**2 + np.linalg.norm(B)**2)\n",
    "    \n",
    "    return err / len(Y)\n"
   ]
  },
  {
   "cell_type": "code",
   "execution_count": 7,
   "metadata": {
    "ExecuteTime": {
     "end_time": "2020-02-27T12:41:58.835035Z",
     "start_time": "2020-02-27T12:41:58.818877Z"
    },
    "code_folding": []
   },
   "outputs": [],
   "source": [
    "def train_model(M, N, K, eta, reg, Y, eps=0.0001, max_epochs=300):\n",
    "  \n",
    "    itr = 0\n",
    "    U = np.random.uniform(-0.5, 0.5, (M, K))\n",
    "    V = np.random.uniform(-0.5, 0.5, (N, K))\n",
    "\n",
    "    A = np.random.uniform(-0.5, 0.5, (M))\n",
    "    B = np.random.uniform(-0.5, 0.5, (N))\n",
    "   \n",
    "    curr_loss = get_err(U, V, Y, A, B)\n",
    "    \n",
    "    shuffled = np.random.permutation(list(range(len(Y))))\n",
    "    \n",
    "    for k in range(len(Y)):\n",
    "        i, j, Yij = Y[shuffled[k]]\n",
    "        \n",
    "        # update U, V, A, B\n",
    "        u = grad_U(U[i-1], Yij, V[j-1], reg, eta, A[i-1], B[j-1])\n",
    "        v = grad_V(U[i-1], Yij, V[j-1], reg, eta, A[i-1], B[j-1])\n",
    "        a = grad_A(U[i-1], Yij, V[j-1], reg, eta, A[i-1], B[j-1])\n",
    "        b = grad_B(U[i-1], Yij, V[j-1], reg, eta, A[i-1], B[j-1])\n",
    "        \n",
    "        U[i-1] = U[i-1] - u \n",
    "        V[j-1] = V[j-1] - v\n",
    "        A[i-1] = A[i-1] - a\n",
    "        B[j-1] = B[j-1] - b\n",
    "        \n",
    "    next_loss = get_err(U, V, Y, A, B)\n",
    "    init = curr_loss - next_loss\n",
    "    curr_delta = init\n",
    "    curr_loss = next_loss\n",
    "    \n",
    "    while itr < max_epochs and (curr_delta / init) > eps:\n",
    "        shuffled = np.random.permutation(list(range(len(Y))))\n",
    "        for k in range(len(Y)): \n",
    "            i, j, Yij = Y[shuffled[k]]\n",
    "            \n",
    "            # update U, V, A, B\n",
    "            u = grad_U(U[i-1], Yij, V[j-1], reg, eta, A[i-1], B[j-1])\n",
    "            v = grad_V(U[i-1], Yij, V[j-1], reg, eta, A[i-1], B[j-1])\n",
    "            a = grad_A(U[i-1], Yij, V[j-1], reg, eta, A[i-1], B[j-1])\n",
    "            b = grad_B(U[i-1], Yij, V[j-1], reg, eta, A[i-1], B[j-1])\n",
    "\n",
    "            U[i-1] = U[i-1] - u \n",
    "            V[j-1] = V[j-1] - v\n",
    "            A[i-1] = A[i-1] - a\n",
    "            B[j-1] = B[j-1] - b\n",
    "            \n",
    "        next_loss = get_err(U,V,Y, A,B)\n",
    "        \n",
    "        curr_delta = curr_loss - next_loss\n",
    "        curr_loss = next_loss\n",
    "        itr += 1\n",
    "        \n",
    "    return U, V, curr_loss, A, B"
   ]
  },
  {
   "cell_type": "code",
   "execution_count": 9,
   "metadata": {
    "ExecuteTime": {
     "end_time": "2020-02-27T21:20:50.239667Z",
     "start_time": "2020-02-27T21:17:21.914285Z"
    }
   },
   "outputs": [
    {
     "name": "stdout",
     "output_type": "stream",
     "text": [
      "Factorizing with  943  users,  1682  movies.\n",
      "0.06657169014459653 63\n",
      "Training error is: 0.06657169014459653\n",
      "Test error is: 0.3510576991240275\n"
     ]
    }
   ],
   "source": [
    "# Create 943 users x 1682 movies \n",
    "M = max(max(Y_train[:,0]), max(Y_test[:,0])).astype(int) # users\n",
    "N = max(max(Y_train[:,1]), max(Y_test[:,1])).astype(int) # movies\n",
    "print(\"Factorizing with \", M, \" users, \", N, \" movies.\")\n",
    "\n",
    "k = 20\n",
    "reg = 0.0\n",
    "eta = 0.03 # learning rate\n",
    "\n",
    "U, V, E_in, A, B = train_model(M, N, k, eta, reg, Y_train)\n",
    "E_out = get_err(U, V, Y_test, A, B)\n",
    "\n",
    "print(\"Training error is: \" + str(E_in))\n",
    "print(\"Test error is: \" + str(E_out))"
   ]
  },
  {
   "cell_type": "code",
   "execution_count": null,
   "metadata": {},
   "outputs": [],
   "source": [
    "test_reg Y_test [10**-3, 10**-2, 10**-1, 1, 10]\n",
    "\n",
    "for r in test_reg:\n",
    "    U_reg, V_reg, E_in_reg, A_reg, B_reg = train_model(M, N, k, eta, r, Y_train)\n",
    "    E_out_test = get_err(U_reg, V_reg, Y_test, A, B)\n",
    "    "
   ]
  },
  {
   "cell_type": "markdown",
   "metadata": {},
   "source": [
    "### New heading"
   ]
  },
  {
   "cell_type": "code",
   "execution_count": null,
   "metadata": {
    "ExecuteTime": {
     "end_time": "2020-02-27T11:34:11.206159Z",
     "start_time": "2020-02-27T11:34:11.181306Z"
    }
   },
   "outputs": [],
   "source": []
  },
  {
   "cell_type": "code",
   "execution_count": null,
   "metadata": {
    "ExecuteTime": {
     "end_time": "2020-02-27T11:36:50.311017Z",
     "start_time": "2020-02-27T11:34:14.100018Z"
    }
   },
   "outputs": [],
   "source": []
  },
  {
   "cell_type": "code",
   "execution_count": null,
   "metadata": {
    "ExecuteTime": {
     "end_time": "2020-02-27T08:58:18.218696Z",
     "start_time": "2020-02-27T08:58:18.198723Z"
    }
   },
   "outputs": [],
   "source": []
  },
  {
   "cell_type": "code",
   "execution_count": null,
   "metadata": {
    "ExecuteTime": {
     "end_time": "2020-02-27T08:59:59.863699Z",
     "start_time": "2020-02-27T08:58:37.142915Z"
    }
   },
   "outputs": [],
   "source": []
  },
  {
   "cell_type": "code",
   "execution_count": 9,
   "metadata": {
    "ExecuteTime": {
     "end_time": "2020-02-27T12:35:34.106524Z",
     "start_time": "2020-02-27T12:35:34.082694Z"
    }
   },
   "outputs": [],
   "source": []
  },
  {
   "cell_type": "code",
   "execution_count": null,
   "metadata": {
    "ExecuteTime": {
     "end_time": "2020-02-27T12:38:52.928658Z",
     "start_time": "2020-02-27T12:35:40.370758Z"
    }
   },
   "outputs": [],
   "source": []
  },
  {
   "cell_type": "code",
   "execution_count": null,
   "metadata": {},
   "outputs": [],
   "source": []
  }
 ],
 "metadata": {
  "kernelspec": {
   "display_name": "Python 3",
   "language": "python",
   "name": "python3"
  },
  "language_info": {
   "codemirror_mode": {
    "name": "ipython",
    "version": 3
   },
   "file_extension": ".py",
   "mimetype": "text/x-python",
   "name": "python",
   "nbconvert_exporter": "python",
   "pygments_lexer": "ipython3",
   "version": "3.6.8"
  },
  "latex_envs": {
   "LaTeX_envs_menu_present": true,
   "autoclose": false,
   "autocomplete": true,
   "bibliofile": "biblio.bib",
   "cite_by": "apalike",
   "current_citInitial": 1,
   "eqLabelWithNumbers": true,
   "eqNumInitial": 1,
   "hotkeys": {
    "equation": "Ctrl-E",
    "itemize": "Ctrl-I"
   },
   "labels_anchors": false,
   "latex_user_defs": false,
   "report_style_numbering": false,
   "user_envs_cfg": false
  },
  "varInspector": {
   "cols": {
    "lenName": 16,
    "lenType": 16,
    "lenVar": 40
   },
   "kernels_config": {
    "python": {
     "delete_cmd_postfix": "",
     "delete_cmd_prefix": "del ",
     "library": "var_list.py",
     "varRefreshCmd": "print(var_dic_list())"
    },
    "r": {
     "delete_cmd_postfix": ") ",
     "delete_cmd_prefix": "rm(",
     "library": "var_list.r",
     "varRefreshCmd": "cat(var_dic_list()) "
    }
   },
   "types_to_exclude": [
    "module",
    "function",
    "builtin_function_or_method",
    "instance",
    "_Feature"
   ],
   "window_display": false
  }
 },
 "nbformat": 4,
 "nbformat_minor": 4
}
